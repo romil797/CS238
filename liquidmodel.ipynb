{
 "cells": [
  {
   "cell_type": "code",
   "execution_count": 1,
   "metadata": {},
   "outputs": [],
   "source": [
    "import numpy as np\n",
    "import random"
   ]
  },
  {
   "cell_type": "markdown",
   "metadata": {},
   "source": [
    "Things to try: \n",
    "self-unknown?\n",
    "input cliques, instead of just pairs\n",
    "distances between voters?\n",
    "directed pairs of neighbors? e.g. celebrities\n",
    "different local allocation rules (as keywords in allocate function)\n",
    "different graphs, sparsities"
   ]
  },
  {
   "cell_type": "code",
   "execution_count": 2,
   "metadata": {},
   "outputs": [],
   "source": [
    "# each voter is an index in the array\n",
    "\n",
    "def construct_neighbors(truecompetencies, neighborpairs):\n",
    "    \"\"\"Returns direct neighbors of voters given pairs of neighbors (edges in graph)\n",
    "    ARGS:\n",
    "        truecompetencies: list of true competencies (between 0 and 1) for each voter\n",
    "        neighborpairs: list of unrepeated, undirected pairs of neighbors; not necessarily ordered\n",
    "    \n",
    "    OUTPUTS:\n",
    "        neighbors: list of direct neighbors for each voter\n",
    "    \"\"\"\n",
    "    n = len(truecompetencies)\n",
    "    \n",
    "    if np.sum(np.array(neighborpairs).flatten()>n-1) != 0:\n",
    "        return(\"Error: Pair contains nonexistent voter.\")\n",
    "    \n",
    "    # initialize neighborlist\n",
    "    neighbors = [[] for i in range(n)]\n",
    "    \n",
    "    # add neighbors\n",
    "    for pair in neighborpairs:\n",
    "        (p1, p2) = pair\n",
    "        neighbors[p1].append(p2)\n",
    "        neighbors[p2].append(p1)\n",
    "\n",
    "    return neighbors"
   ]
  },
  {
   "cell_type": "code",
   "execution_count": 3,
   "metadata": {},
   "outputs": [],
   "source": [
    "# perceived competencies are just based on public voting record. extend to voting for representative?\n",
    "# unless we want to consider if stop watching -- if i vote right i don't look at others?\n",
    "def prior_competencies(competencies):\n",
    "    \"\"\"Initializes Beta(1,1) public competency distribution priors for everyone\n",
    "    ARGS:\n",
    "        competencies: list of true competencies (between 0 and 1) for each voter\n",
    "    OUTPUTS:\n",
    "        priors: list of Beta parameters for each individual\n",
    "    \"\"\"\n",
    "    n = len(competencies)\n",
    "    priors = [(1,1) for i in range(n)] # initialize everyone to Beta(1,1)=Unif(0,1) distributions\n",
    "    return priors"
   ]
  },
  {
   "cell_type": "code",
   "execution_count": 4,
   "metadata": {},
   "outputs": [],
   "source": [
    "def allocate(truecompetencies, pubcompetencies, neighbors, mechanism=\"standard\"):\n",
    "    \"\"\"Returns index of final voter whom each voter allocates their vote to\n",
    "    ARGS:\n",
    "        truecompetencies: list of true competencies (between 0 and 1) for each voter\n",
    "        pubcompetencies: list of public competency distributions for each voter, as paramters for Beta dist\n",
    "        neighbors: list of direct neighbors for each voter\n",
    "    Options:\n",
    "        mechanism: local delegation mechanism to use (see below)\n",
    "    Mechanisms:\n",
    "        \"standard\": each voter delegates to their neighbor with highest mean competency.\n",
    "                    in case of ties, voter delgates to the first in their list\n",
    "        \"truestandard\": each voter delegates to their neighbor with highest true competency.\n",
    "                    in case of ties, voter delgates to the first in their list\n",
    "                    \n",
    "        TODO: other (non-deterministic) mechanisms?\n",
    "    \n",
    "    OUTPUTS:\n",
    "        allocation: list of indices, where each value is the index of the sink\n",
    "                    voter whom that voter delegates to\n",
    "    \"\"\"\n",
    "    \n",
    "    allocation = [i for i in range(len(truecompetencies))] # initially each voter allocates vote to self\n",
    "    \n",
    "    meanpubcompetencies = [j[0]/(j[0]+j[1]) for j in pubcompetencies] # mean of each dist\n",
    "    \n",
    "    # for every voter, consider their neighbors\n",
    "    for i, ineighbors in enumerate(neighbors):\n",
    "        # i is index of voter being considered, ineighbors is list of indices of i's neighbors\n",
    "        if mechanism==\"standard\":\n",
    "            neighborcompetencies = [meanpubcompetencies[j] for j in ineighbors] \n",
    "            bestneighbor = ineighbors[np.argmax(neighborcompetencies)] # picks neighbor with highest competency; if ties, chooses first\n",
    "            \n",
    "            if truecompetencies[i] < meanpubcompetencies[bestneighbor]:\n",
    "                allocation[i] = bestneighbor\n",
    "                \n",
    "        elif mechanism==\"truestandard\":\n",
    "            neighborcompetencies = [truecompetencies[j] for j in ineighbors]\n",
    "            bestneighbor = ineighbors[np.argmax(neighborcompetencies)] # picks neighbor with highest competency; if ties, chooses first\n",
    "\n",
    "            if truecompetencies[i] < truecompetencies[bestneighbor]:\n",
    "                allocation[i] = bestneighbor\n",
    "    \n",
    "    # Here we allocate to the last sink in the chain\n",
    "    for node in allocation:\n",
    "        path = [node]\n",
    "        while allocation[path[-1]] != path[-1]:\n",
    "            path.append(allocation[path[-1]])\n",
    "            if path[-1] == path[0]:\n",
    "                # Not a DAG. Most of our allocations are not.\n",
    "                path[-1] = random.choice(path[:-1])\n",
    "                break\n",
    "        for point_to_sink in path:\n",
    "            allocation[point_to_sink] = path[-1]\n",
    "    return allocation"
   ]
  },
  {
   "cell_type": "code",
   "execution_count": 5,
   "metadata": {},
   "outputs": [
    {
     "name": "stdout",
     "output_type": "stream",
     "text": [
      "[0.8 0.6 0.6 0.6 0.6 0.6 0.6 0.6 0.6] [(1, 1), (1, 1), (1, 1), (1, 1), (1, 1), (1, 1), (1, 1), (1, 1), (1, 1)] [[0 1]\n",
      " [0 2]\n",
      " [0 3]\n",
      " [0 4]\n",
      " [0 5]\n",
      " [0 6]\n",
      " [0 7]\n",
      " [0 8]]\n"
     ]
    }
   ],
   "source": [
    "star_truecomps = np.array([.8]+[.6 for i in range(8)]) # true competencies\n",
    "star_pubcomps = prior_competencies(star_truecomps) # initialize parameters for priors\n",
    "star_nbpairs = np.array([(0, i) for i in range(1,9)]) # pairs of neighbors\n",
    "print(star_truecomps, star_pubcomps, star_nbpairs)"
   ]
  },
  {
   "cell_type": "code",
   "execution_count": 6,
   "metadata": {},
   "outputs": [
    {
     "name": "stdout",
     "output_type": "stream",
     "text": [
      "[0, 1, 2, 3, 4, 5, 6, 7, 8]\n",
      "[0, 0, 0, 0, 0, 0, 0, 0, 0]\n"
     ]
    }
   ],
   "source": [
    "# test once\n",
    "star_nbs = construct_neighbors(star_truecomps, star_nbpairs)\n",
    "print(allocate(star_truecomps, star_pubcomps, star_nbs, mechanism=\"standard\")) # allocate using mean perceived competency\n",
    "print(allocate(star_truecomps, star_pubcomps, star_nbs, mechanism=\"truestandard\")) # allocate using true competency"
   ]
  },
  {
   "cell_type": "code",
   "execution_count": 7,
   "metadata": {},
   "outputs": [],
   "source": [
    "def update_competencies(initialcompetencies, votes):\n",
    "    \"\"\"Returns updated competencies\n",
    "    ARGS:\n",
    "        initialcompetencies: list of initial public competency distributions for each voter, as parameters for Beta dist\n",
    "        votes: list of voting correctness for each voter\n",
    "        \n",
    "    OUTPUTS:\n",
    "        finalcompetencies: list of initial public competency distributions for each voter, as parameters for Beta dist\n",
    "    \"\"\"\n",
    "    finalcompetencies = initialcompetencies.copy()\n",
    "    for i in range(len(votes)):\n",
    "        finalcompetencies[i] = (initialcompetencies[i][0] + 1, initialcompetencies[i][1]) if votes[i]==1 else (initialcompetencies[i][0], initialcompetencies[i][1] + 1)\n",
    "    \n",
    "    return finalcompetencies"
   ]
  },
  {
   "cell_type": "code",
   "execution_count": 8,
   "metadata": {},
   "outputs": [
    {
     "data": {
      "text/plain": [
       "[(2, 1), (2, 1), (2, 1), (2, 1), (2, 1), (1, 2), (1, 2), (1, 2), (1, 2)]"
      ]
     },
     "execution_count": 8,
     "metadata": {},
     "output_type": "execute_result"
    }
   ],
   "source": [
    "star_pubcomps\n",
    "testvotes = [1 for i in range(5)] + [0 for i in range(4)]\n",
    "star_pubcomps2 = update_competencies(star_pubcomps, testvotes)\n",
    "star_pubcomps2"
   ]
  },
  {
   "cell_type": "code",
   "execution_count": 9,
   "metadata": {},
   "outputs": [],
   "source": [
    "def simulate_liquid(truecompetencies, neighborpairs, pubcompetencies=None, rounds=100, mechanism=\"standard\"):\n",
    "    \"\"\"Returns final public competencies, arrays of nubmer of voters who allocate, nubmer of voters who vote correctly\n",
    "    ARGS:\n",
    "        truecompetencies: list of true competencies (between 0 and 1) for each voter\n",
    "        neighborpairs: list of unrepeated, undirected pairs of neighbors; not necessarily ordered\n",
    "    Options:\n",
    "        pubcompetencies: list of public competency distributions for each voter, as parameters for Beta dist\n",
    "        rounds: # of iterative rounds to vote\n",
    "        mechanism: local delegation mechanism to use (see allocate function)\n",
    "        \n",
    "    OUTPUTS:\n",
    "        pubcompetencies: list of final public competency distributions for each voter, as parameters for Beta dist\n",
    "        numallocated: number of voters who allocate their votes in each round\n",
    "        numcorrect: number of voters who vote correctly in each round\n",
    "        numnoallocate: control test TODO: delete\n",
    "    \"\"\"\n",
    "    \n",
    "    n = len(truecompetencies)\n",
    "    neighbors = construct_neighbors(truecompetencies, neighborpairs)\n",
    "    \n",
    "    if pubcompetencies==None:\n",
    "        pubcompetencies = prior_competencies(truecompetencies) # initialize to Beta(1,1)\n",
    "    \n",
    "    numallocated = []\n",
    "    numcorrect = []\n",
    "    numnoallocate = [] # can ignore: testing, for comparison\n",
    "    for t in range(rounds):\n",
    "        # allocate\n",
    "        allocation = allocate(truecompetencies, pubcompetencies, neighbors, mechanism=\"standard\")\n",
    "        # vote\n",
    "        initialvotes = np.random.binomial(1, truecompetencies)\n",
    "        allocatedvotes = initialvotes[allocation]\n",
    "        \n",
    "        allocated = np.count_nonzero(np.array(allocation)-np.array([i for i in range(len(truecompetencies))])) # number of voters who allocated their vote to someone else\n",
    "        \n",
    "        numallocated.append(allocated) # add number of voters who give up their vote\n",
    "        numcorrect.append(np.sum(allocatedvotes)) # add number correct to correct\n",
    "        numnoallocate.append(np.sum(initialvotes)) # add initial number correct to noallocate\n",
    "\n",
    "        # update perceived competencies\n",
    "        pubcompetencies = update_competencies(pubcompetencies, allocatedvotes) #NOTE: judging everyone by their final (possibly allocated) vote!!!!\n",
    "    \n",
    "    propcorrect = np.sum(numcorrect>np.ceil((n+1)/2.))/rounds # proportion over time of votes that are \"correct\" (>1/2 of voters vote correctly)\n",
    "    propnoallocate = np.sum(numnoallocate>np.ceil((n+1)/2.))/rounds\n",
    "    print(\"Proportion correct:\", propcorrect, \" Proportion noallocate right: \", propnoallocate)\n",
    "    return pubcompetencies, np.array(numallocated), np.array(numcorrect), np.array(numnoallocate)"
   ]
  },
  {
   "cell_type": "code",
   "execution_count": 10,
   "metadata": {},
   "outputs": [
    {
     "name": "stdout",
     "output_type": "stream",
     "text": [
      "Center competency: 0.0\n",
      "Proportion correct: 0.478  Proportion noallocate right:  0.319\n",
      "Center competency: 0.2\n",
      "Proportion correct: 0.475  Proportion noallocate right:  0.373\n",
      "Center competency: 0.4\n",
      "Proportion correct: 0.471  Proportion noallocate right:  0.404\n",
      "Center competency: 0.6\n",
      "Proportion correct: 0.565  Proportion noallocate right:  0.491\n",
      "Center competency: 0.7\n",
      "Proportion correct: 0.733  Proportion noallocate right:  0.516\n",
      "Center competency: 0.8\n",
      "Proportion correct: 0.802  Proportion noallocate right:  0.53\n",
      "Center competency: 0.9\n",
      "Proportion correct: 0.899  Proportion noallocate right:  0.567\n",
      "Center competency: 1.0\n",
      "Proportion correct: 1.0  Proportion noallocate right:  0.61\n"
     ]
    }
   ],
   "source": [
    "for center_competency in [0.0, 0.2, 0.4, 0.6, 0.7, 0.8, 0.9, 1.0]:\n",
    "    star_truecomps = np.array([center_competency]+[.6 for i in range(8)]) # true competencies\n",
    "    star_nbpairs = np.array([(0, i) for i in range(1,9)]) # pairs of neighbors\n",
    "    print(\"Center competency:\", center_competency)\n",
    "    simulate_liquid(star_truecomps, star_nbpairs, rounds=1000, mechanism=\"standard\")\n",
    "    # simulate_liquid(star_truecomps, star_nbpairs, rounds=100, mechanism=\"truestandard\")"
   ]
  },
  {
   "cell_type": "code",
   "execution_count": null,
   "metadata": {},
   "outputs": [],
   "source": [
    "|"
   ]
  }
 ],
 "metadata": {
  "kernelspec": {
   "display_name": "Python 3",
   "language": "python",
   "name": "python3"
  },
  "language_info": {
   "codemirror_mode": {
    "name": "ipython",
    "version": 3
   },
   "file_extension": ".py",
   "mimetype": "text/x-python",
   "name": "python",
   "nbconvert_exporter": "python",
   "pygments_lexer": "ipython3",
   "version": "3.6.9"
  }
 },
 "nbformat": 4,
 "nbformat_minor": 4
}
