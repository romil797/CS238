{
 "cells": [
  {
   "cell_type": "code",
   "execution_count": null,
   "metadata": {},
   "outputs": [],
   "source": [
    "import numpy as np\n",
    "import random\n",
    "import scipy.stats\n",
    "import matplotlib.pyplot as plt"
   ]
  },
  {
   "cell_type": "code",
   "execution_count": null,
   "metadata": {},
   "outputs": [],
   "source": [
    "# each voter is an index in the array\n",
    "\n",
    "def construct_neighbors(truecompetencies, neighborpairs):\n",
    "    \"\"\"Returns direct neighbors of voters given pairs of neighbors (edges in graph)\n",
    "    ARGS:\n",
    "        truecompetencies: list of true competencies (between 0 and 1) for each voter\n",
    "        neighborpairs: list of unrepeated, undirected pairs of neighbors; not necessarily ordered\n",
    "    \n",
    "    OUTPUTS:\n",
    "        neighbors: list of direct neighbors for each voter\n",
    "    \"\"\"\n",
    "    n = len(truecompetencies)\n",
    "    \n",
    "    if np.sum(np.array(neighborpairs).flatten() > n - 1) != 0:\n",
    "        return(\"Error: Pair contains nonexistent voter.\")\n",
    "    \n",
    "    # initialize neighborlist\n",
    "    neighbors = [[] for i in range(n)]\n",
    "    \n",
    "    # add neighbors\n",
    "    for pair in neighborpairs:\n",
    "        (p1, p2) = pair\n",
    "        neighbors[p1].append(p2)\n",
    "        neighbors[p2].append(p1)\n",
    "\n",
    "    return neighbors"
   ]
  },
  {
   "cell_type": "code",
   "execution_count": null,
   "metadata": {},
   "outputs": [],
   "source": [
    "# perceived competencies are just based on public voting record. \n",
    "def prior_competencies(competencies):\n",
    "    \"\"\"Initializes Beta(1,1) public competency distribution priors for everyone\n",
    "    ARGS:\n",
    "        competencies: list of true competencies (between 0 and 1) for each voter\n",
    "    OUTPUTS:\n",
    "        priors: list of Beta parameters for each individual\n",
    "    \"\"\"\n",
    "    n = len(competencies)\n",
    "    priors = [(1,1) for i in range(n)] # initialize everyone to Beta(1,1)=Unif(0,1) distributions\n",
    "    return priors"
   ]
  },
  {
   "cell_type": "code",
   "execution_count": null,
   "metadata": {},
   "outputs": [],
   "source": [
    "def allocate(truecompetencies, pubcompetencies, neighbors, mechanism=\"standard\"):\n",
    "    \"\"\"Returns index of final voter whom each voter allocates their vote to\n",
    "    ARGS:\n",
    "        truecompetencies: list of true competencies (between 0 and 1) for each voter\n",
    "        pubcompetencies: list of public competency distributions for each voter, as paramters for Beta dist\n",
    "        neighbors: list of direct neighbors for each voter\n",
    "    Options:\n",
    "        mechanism: local delegation mechanism to use (see below)\n",
    "    Mechanisms:\n",
    "        \"standard\": each voter delegates to their neighbor with highest mean competency (if they exist).\n",
    "                    in case of ties, voter delegates to the first in their list\n",
    "        \"truestandard\": each voter delegates to their neighbor with highest true competency (if they exist).\n",
    "                    in case of ties, voter delegates to the first in their list\n",
    "        \"probstandard\": each voter delegates to their neighbor with highest mean competency  (if they exist) with the probability they are actually better.\n",
    "                    in case of ties, voter delegates to the first in their list\n",
    "        \"weightedprob\": each voter randomly delegates to a more competent neighbor (if they exist), weighted by their perceived probability of being better\n",
    "        \"direct\": no allocation\n",
    "                        \n",
    "    OUTPUTS:\n",
    "        allocation: list of indices, where each value is the index of the sink\n",
    "                    voter whom that voter delegates to\n",
    "    \"\"\"\n",
    "    \n",
    "    allocation = [i for i in range(len(truecompetencies))] # initially each voter allocates vote to self\n",
    "    \n",
    "    meanpubcompetencies = [j[0]/(j[0]+j[1]) for j in pubcompetencies] # mean of each dist\n",
    "    \n",
    "    # for every voter, consider their neighbors\n",
    "    for i, ineighbors in enumerate(neighbors):\n",
    "        # i is index of voter being considered, ineighbors is list of indices of i's neighbors\n",
    "        \n",
    "        # if i has no neighbors\n",
    "        if len(ineighbors) == 0:\n",
    "            continue\n",
    "        \n",
    "        elif mechanism==\"standard\":\n",
    "            neighborcompetencies = [meanpubcompetencies[j] for j in ineighbors] \n",
    "            bestneighbor = ineighbors[np.argmax(neighborcompetencies)] # picks neighbor with highest competency; if ties, chooses first\n",
    "            \n",
    "            if truecompetencies[i] < meanpubcompetencies[bestneighbor]:\n",
    "                allocation[i] = bestneighbor\n",
    "                \n",
    "        elif mechanism==\"truestandard\":\n",
    "            neighborcompetencies = [truecompetencies[j] for j in ineighbors]\n",
    "            bestneighbor = ineighbors[np.argmax(neighborcompetencies)] # picks neighbor with highest competency; if ties, chooses first\n",
    "\n",
    "            if truecompetencies[i] < truecompetencies[bestneighbor]:\n",
    "                allocation[i] = bestneighbor\n",
    "                \n",
    "        elif mechanism==\"probstandard\":\n",
    "            neighborcompetencies = [meanpubcompetencies[j] for j in ineighbors] \n",
    "            bestneighbor = ineighbors[np.argmax(neighborcompetencies)] # picks neighbor with highest competency; if ties, chooses first\n",
    "            \n",
    "            # allocate to best neighbor with probability equal to cdf of distribtuion for neighbor from own distribution up to 1\n",
    "            if random.random() < 1 - scipy.stats.beta.cdf(x=truecompetencies[i], a=pubcompetencies[bestneighbor][0], b=pubcompetencies[bestneighbor][1]):\n",
    "                allocation[i] = bestneighbor\n",
    "        \n",
    "        elif mechanism==\"weightedprob\":\n",
    "            neighborcompetencies = [meanpubcompetencies[j] for j in ineighbors]\n",
    "            betterneighbors = np.array(ineighbors)[np.array(neighborcompetencies) > truecompetencies[i]] # neighbors whose man is better than i\n",
    "            \n",
    "            if len(betterneighbors) > 0: # if at least one better neighbor\n",
    "                neighborweights = [1 - scipy.stats.beta.cdf(x=truecompetencies[i], a=pubcompetencies[j][0], b=pubcompetencies[j][1]) for j in betterneighbors] # probability of being better than i\n",
    "                allocation[i] = betterneighbors[random.choices(range(len(betterneighbors)), weights=neighborweights)]\n",
    "        elif mechanism==\"direct\":\n",
    "            return [i for i in range(len(truecompetencies))]\n",
    "                    \n",
    "            \n",
    "    # Here we allocate to the last sink in the chain\n",
    "    for node in range(len(allocation)): # check across all voters\n",
    "        path = [node] # create running cycle list \n",
    "        \n",
    "        while allocation[path[-1]] not in path: # if hasn't gotten to someone who we've seen before\n",
    "            # print(path)\n",
    "            path.append(allocation[path[-1]]) # add them to the running list of voters in cycle\n",
    "            \n",
    "        delegate = random.choice(path[path.index(allocation[path[-1]]):]) # pick someone random in the cycle (cycle starts from point where while loop broken)\n",
    "        \n",
    "        for point_to_sink in path: # make everyone delegate to same person, completing liquid flow\n",
    "            allocation[point_to_sink] = delegate\n",
    "                \n",
    "    return allocation"
   ]
  },
  {
   "cell_type": "code",
   "execution_count": null,
   "metadata": {},
   "outputs": [],
   "source": [
    "star_truecomps = np.array([.8]+[.6 for i in range(8)]) # true competencies\n",
    "star_pubcomps = prior_competencies(star_truecomps) # initialize parameters for priors\n",
    "star_nbpairs = np.array([(0, i) for i in range(1,9)]) # pairs of neighbors\n",
    "print(star_truecomps, star_pubcomps, star_nbpairs)"
   ]
  },
  {
   "cell_type": "code",
   "execution_count": null,
   "metadata": {},
   "outputs": [],
   "source": [
    "# test once\n",
    "star_nbs = construct_neighbors(star_truecomps, star_nbpairs)\n",
    "print(allocate(star_truecomps, star_pubcomps, star_nbs, mechanism=\"standard\")) # allocate using mean perceived competency\n",
    "print(allocate(star_truecomps, star_pubcomps, star_nbs, mechanism=\"truestandard\")) # allocate using true competency"
   ]
  },
  {
   "cell_type": "code",
   "execution_count": null,
   "metadata": {},
   "outputs": [],
   "source": [
    "def update_competencies(initialcompetencies, votes):\n",
    "    \"\"\"Returns updated competencies\n",
    "    ARGS:\n",
    "        initialcompetencies: list of initial public competency distributions for each voter, as parameters for Beta dist\n",
    "        votes: list of voting correctness for each voter\n",
    "        \n",
    "    OUTPUTS:\n",
    "        finalcompetencies: list of initial public competency distributions for each voter, as parameters for Beta dist\n",
    "    \"\"\"\n",
    "    finalcompetencies = initialcompetencies.copy()\n",
    "    for i in range(len(votes)):\n",
    "        finalcompetencies[i] = (initialcompetencies[i][0] + 1, initialcompetencies[i][1]) if votes[i]==1 else (initialcompetencies[i][0], initialcompetencies[i][1] + 1)\n",
    "    \n",
    "    return finalcompetencies"
   ]
  },
  {
   "cell_type": "code",
   "execution_count": null,
   "metadata": {},
   "outputs": [],
   "source": [
    "star_pubcomps\n",
    "testvotes = [1 for i in range(5)] + [0 for i in range(4)]\n",
    "star_pubcomps2 = update_competencies(star_pubcomps, testvotes)\n",
    "star_pubcomps2"
   ]
  },
  {
   "cell_type": "code",
   "execution_count": null,
   "metadata": {},
   "outputs": [],
   "source": [
    "def simulate_liquid(truecompetencies, neighborpairs, pubcompetencies=None, rounds=100, mechanism=\"standard\"):\n",
    "    \"\"\"Returns final public competencies, arrays of numbers = np.random.binomial(n, p, 1000)s = np.random.binomial(n, p, 1000) of voters who allocate, nubmer of voters who vote correctly\n",
    "    ARGS:\n",
    "        truecompetencies: list of true competencies (between 0 and 1) for each voter\n",
    "        neighborpairs: list of unrepeated, undirected pairs of neighbors; not necessarily ordered\n",
    "    Options:\n",
    "        pubcompetencies: list of public competency distributions for each voter, as parameters for Beta dist\n",
    "        rounds: # of iterative rounds to vote\n",
    "        mechanism: local delegation mechanism to use (see allocate function)\n",
    "        \n",
    "    OUTPUTS:\n",
    "        pubcompetencies: list of final public competency distributions for each voter, as parameters for Beta dist\n",
    "        numallocated: number of voters who allocate their votes in each round\n",
    "        numcorrect: number of voters who vote correctly in each round\n",
    "        numdirect: under direct democracy\n",
    "    \"\"\"\n",
    "    \n",
    "    n = len(truecompetencies)\n",
    "    neighbors = construct_neighbors(truecompetencies, neighborpairs)\n",
    "    \n",
    "    if pubcompetencies==None:\n",
    "        pubcompetencies = prior_competencies(truecompetencies) # initialize to Beta(1,1)\n",
    "    \n",
    "    numallocated = []\n",
    "    numcorrect = []\n",
    "    numdirect = [] # can ignore: testing, for comparison\n",
    "    for t in range(rounds):\n",
    "        # allocate\n",
    "        allocation = allocate(truecompetencies, pubcompetencies, neighbors, mechanism=mechanism)\n",
    "        # vote\n",
    "        initialvotes = np.random.binomial(1, truecompetencies)\n",
    "        allocatedvotes = initialvotes[allocation]\n",
    "        \n",
    "        allocated = np.count_nonzero(np.array(allocation)-np.array([i for i in range(len(truecompetencies))])) # number of voters who allocated their vote to someone else\n",
    "        \n",
    "        numallocated.append(allocated) # add number of voters who give up their vote\n",
    "        numcorrect.append(np.sum(allocatedvotes)) # add number correct to correct\n",
    "        numdirect.append(np.sum(initialvotes)) # add initial number correct under directdemocracy to numdirect\n",
    "\n",
    "        # update perceived competencies\n",
    "        pubcompetencies = update_competencies(pubcompetencies, initialvotes) # NOTE: judging everyone based on their broadcasted vote (possibly not counted)\n",
    "        # pubcompetencies = update_competencies(pubcompetencies, allocatedvotes) #NOTE: judging everyone by their final (possibly allocated) vote!!!!\n",
    "    \n",
    "    propcorrect = np.sum(numcorrect>np.ceil((n+1)/2.))/rounds # proportion over time of votes that are \"correct\" (>1/2 of voters vote correctly)\n",
    "    propdirect = np.sum(numdirect>np.ceil((n+1)/2.))/rounds\n",
    "    print(\"Proportion of rounds where liquid electorate is right:\", propcorrect, \"\\nProportion of rounds where direct democracy is right: \", propdirect)\n",
    "    return propcorrect, propdirect, pubcompetencies, np.array(numallocated), np.array(numcorrect), np.array(numdirect)"
   ]
  },
  {
   "cell_type": "code",
   "execution_count": null,
   "metadata": {},
   "outputs": [],
   "source": [
    "# Star structure 1\n",
    "starprops_liquid = []\n",
    "starprops_direct = []\n",
    "competencies = [0.0, 0.2, 0.4, 0.5, 0.6, 0.7, 0.8, 0.9, 1.0]\n",
    "for center_competency in competencies:\n",
    "    star_truecomps = np.array([center_competency]+[.6 for i in range(8)]) # true competencies\n",
    "    star_nbpairs = np.array([(0, i) for i in range(1,9)]) # pairs of neighbors\n",
    "    print(\"Center competency:\", center_competency)\n",
    "    propcorrect, propdirect, _, _, _, _ = simulate_liquid(star_truecomps, star_nbpairs, rounds=1000, mechanism=\"standard\")\n",
    "    \n",
    "    starprops_liquid.append(propcorrect)\n",
    "    starprops_direct.append(propdirect)\n",
    "    # simulate_liquid(star_truecomps, star_nbpairs, rounds=100, mechanism=\"truestandard\")\n",
    "#print(np.mean(starprops_liquid), np.mean(starprops_direct),starprops_liquid, starprops_direct)\n",
    "plt.plot(competencies, starprops_liquid, label=\"Liquid\")\n",
    "plt.plot(competencies, starprops_direct)\n",
    "plt.xlabel(\"Competency\"); plt.ylabel(\"Majority Voted Correctly Proportion\")\n",
    "plt.title(\"Voting Majority by Center Competency (1000 rounds)\")\n",
    "plt.legend()"
   ]
  },
  {
   "cell_type": "markdown",
   "metadata": {},
   "source": [
    "## Random graphs"
   ]
  },
  {
   "cell_type": "code",
   "execution_count": null,
   "metadata": {
    "scrolled": true
   },
   "outputs": [],
   "source": [
    "# Random graph simulation\n",
    "\n",
    "n = 100 # number of people\n",
    "rand_truecomps = np.random.random_sample(size = n)\n",
    "rand_nbpairs = construct_neighborpairs(n)\n",
    "simulate_liquid(rand_truecomps, rand_nbpairs, rounds=50, mechanism=\"standard\")\n"
   ]
  },
  {
   "cell_type": "code",
   "execution_count": null,
   "metadata": {
    "scrolled": true
   },
   "outputs": [],
   "source": [
    "# Simulate a bunch, 50 rounds\n",
    "\n",
    "randprops_liquid, randprops_direct = [], []\n",
    "for i in range(100):\n",
    "    n = 100 # number of people\n",
    "    rand_truecomps = np.random.random_sample(size = n)\n",
    "    rand_nbpairs = construct_neighborpairs(n)\n",
    "    propcorrect, propdirect, _, _, _, _ = simulate_liquid(rand_truecomps, rand_nbpairs, rounds=50, mechanism=\"standard\")\n",
    "    \n",
    "    randprops_liquid.append(propcorrect)\n",
    "    randprops_direct.append(propdirect)\n",
    "    print(i+1, \"th iteration complete!!-------------------------------------------------------\")\n",
    "\n",
    "print(np.mean(randprops_liquid), np.mean(randprops_direct), randprops_liquid, randprops_direct)\n"
   ]
  },
  {
   "cell_type": "code",
   "execution_count": null,
   "metadata": {
    "scrolled": true
   },
   "outputs": [],
   "source": [
    "# Simulate a bunch, 5 rounds\n",
    "\n",
    "for i in range(100):\n",
    "    n = 10 # number of people\n",
    "    rand_truecomps = np.random.random_sample(size = n)\n",
    "    rand_nbpairs = construct_neighborpairs(n)\n",
    "    simulate_liquid(rand_truecomps, rand_nbpairs, rounds=1, mechanism=\"standard\")\n",
    "    \n",
    "    print(i+1, \"th iteration complete!!-------------------------------------------------------\")"
   ]
  },
  {
   "cell_type": "markdown",
   "metadata": {},
   "source": [
    "# Zipf Random"
   ]
  },
  {
   "cell_type": "code",
   "execution_count": null,
   "metadata": {},
   "outputs": [],
   "source": [
    "import scipy.stats\n",
    "scipy.stats.pareto.pdf(1,1) # = 1. normalized correctly\n",
    "scipy.stats.pareto.pdf(5,1) # = .04\n",
    "100*scipy.stats.pareto.pdf(1,1/100) # = 1. normalized correctly\n",
    "100*scipy.stats.pareto.pdf(5,1/100) # = .2\n",
    "\n",
    "# apply zipf?"
   ]
  },
  {
   "cell_type": "code",
   "execution_count": null,
   "metadata": {},
   "outputs": [],
   "source": [
    "# Generate popularities according to Pareto dist\n",
    "\n",
    "def generate_popularities(n, repeat=1):\n",
    "    \"\"\"Returns voters' popularities according to Zipf dist\n",
    "    ARGS:\n",
    "        n: number of voters\n",
    "        repeat: number of voters with 1/i popularity\n",
    "        \n",
    "    OUTPUTS:\n",
    "        popularities: list of popularity for each voter, following an approximate Zipf distribution\n",
    "    \"\"\"\n",
    "    \n",
    "    popularities = [1/np.ceil(i/repeat) for i in range(1,n+1)] # repeated Zipf function\n",
    "    return popularities\n",
    "\n",
    "    # print(\"Popularities:\", popularities)\n",
    "\n",
    "\n",
    "def generate_zipfgraph(n, repeat=1):\n",
    "    \"\"\"Returns voters' popularities according to Zipf dist\n",
    "    ARGS:\n",
    "        n: number of voters\n",
    "        repeat: number of voters with 1/i popularity\n",
    "        \n",
    "    OUTPUTS:\n",
    "        popularities: list of popularity for each voter, following an approximate Zipf distribution\n",
    "        nbpairs: generated pairs of neighbors, based on popularity\n",
    "    \"\"\"\n",
    "    \n",
    "    popularities = generate_popularities(n, repeat)\n",
    "    \n",
    "    nbpairs = []\n",
    "    for i in range(n):\n",
    "        for j in range(i+1,n):\n",
    "            if random.random() < popularities[i]*popularities[j]:\n",
    "                nbpairs.append((i,j))\n",
    "    # print(len(nbpairs), nbpairs)\n",
    "    \n",
    "    return popularities, nbpairs\n",
    "\n",
    "generate_zipfgraph(100, repeat=3)"
   ]
  },
  {
   "cell_type": "code",
   "execution_count": null,
   "metadata": {
    "scrolled": true
   },
   "outputs": [],
   "source": [
    "zipfprops_liquid, zipfprops_direct = [], []\n",
    "for i in range(10):\n",
    "    n = 100 # number of people\n",
    "    zipf_truecomps, zipf_nbpairs = generate_zipfgraph(n, repeat=3)\n",
    "    propcorrect, propdirect, _, _, _, _ = simulate_liquid(zipf_truecomps, zipf_nbpairs, rounds=100, mechanism=\"standard\")\n",
    "    \n",
    "    zipfprops_liquid.append(propcorrect)\n",
    "    zipfprops_direct.append(propdirect)\n",
    "    print(i+1, \"th iteration complete!!-------------------------------------------------------\")\n",
    "\n",
    "print(np.mean(zipfprops_liquid), np.mean(zipfprops_direct),zipfprops_liquid, zipfprops_direct)\n"
   ]
  },
  {
   "cell_type": "code",
   "execution_count": null,
   "metadata": {
    "scrolled": true
   },
   "outputs": [],
   "source": [
    "# 100 instances of 10 rounds\n",
    "zipfprops_liquid, zipfprops_direct = [], []\n",
    "for i in range(100):\n",
    "    n = 100 # number of people\n",
    "    zipf_truecomps, zipf_nbpairs = generate_zipfgraph(n, repeat=3)\n",
    "    propcorrect, propdirect, _, _, _, _ = simulate_liquid(zipf_truecomps, zipf_nbpairs, rounds=10, mechanism=\"standard\")\n",
    "    \n",
    "    zipfprops_liquid.append(propcorrect)\n",
    "    zipfprops_direct.append(propdirect)\n",
    "    print(i+1, \"th iteration complete!!-------------------------------------------------------\")\n",
    "\n",
    "print(np.mean(zipfprops_liquid), np.mean(zipfprops_direct),zipfprops_liquid, zipfprops_direct)\n"
   ]
  },
  {
   "cell_type": "code",
   "execution_count": null,
   "metadata": {
    "scrolled": true
   },
   "outputs": [],
   "source": [
    "# 100 instances of 5 rounds\n",
    "zipfprops_liquid, zipfprops_direct = [], []\n",
    "for i in range(100):\n",
    "    n = 100 # number of people\n",
    "    zipf_truecomps, zipf_nbpairs = generate_zipfgraph(n, repeat=3)\n",
    "    propcorrect, propdirect, _, _, _, _ = simulate_liquid(zipf_truecomps, zipf_nbpairs, rounds=5, mechanism=\"standard\")\n",
    "    \n",
    "    zipfprops_liquid.append(propcorrect)\n",
    "    zipfprops_direct.append(propdirect)\n",
    "    print(i+1, \"th iteration complete!!-------------------------------------------------------\")\n",
    "\n",
    "print(np.mean(zipfprops_liquid), np.mean(zipfprops_direct),zipfprops_liquid, zipfprops_direct)\n"
   ]
  },
  {
   "cell_type": "markdown",
   "metadata": {},
   "source": [
    "# Probabilistic delegation mechanisms"
   ]
  },
  {
   "cell_type": "markdown",
   "metadata": {},
   "source": [
    "## Probstandard"
   ]
  },
  {
   "cell_type": "code",
   "execution_count": null,
   "metadata": {},
   "outputs": [],
   "source": [
    "# Star structure 1\n",
    "starprops_liquid = []\n",
    "starprops_direct = []\n",
    "for center_competency in [0.0, 0.2, 0.4, 0.6, 0.7, 0.8, 0.9, 1.0]:\n",
    "    star_truecomps = np.array([center_competency]+[.6 for i in range(8)]) # true competencies\n",
    "    star_nbpairs = np.array([(0, i) for i in range(1,9)]) # pairs of neighbors\n",
    "    print(\"Center competency:\", center_competency)\n",
    "    propcorrect, propdirect, _, _, _, _ = simulate_liquid(star_truecomps, star_nbpairs, rounds=1000, mechanism=\"probstandard\")\n",
    "    \n",
    "    starprops_liquid.append(propcorrect)\n",
    "    starprops_direct.append(propdirect)\n",
    "    # simulate_liquid(star_truecomps, star_nbpairs, rounds=100, mechanism=\"truestandard\")\n",
    "print(np.mean(starprops_liquid), np.mean(starprops_direct),starprops_liquid, starprops_direct)"
   ]
  },
  {
   "cell_type": "code",
   "execution_count": null,
   "metadata": {
    "scrolled": true
   },
   "outputs": [],
   "source": [
    "# Simulate a bunch, 50 rounds\n",
    "\n",
    "randprops_liquid, randprops_direct = [], []\n",
    "for i in range(100):\n",
    "    n = 100 # number of people\n",
    "    rand_truecomps = np.random.random_sample(size = n)\n",
    "    rand_nbpairs = construct_neighborpairs(n)\n",
    "    propcorrect, propdirect, _, _, _, _ = simulate_liquid(rand_truecomps, rand_nbpairs, rounds=50, mechanism=\"probstandard\")\n",
    "    \n",
    "    randprops_liquid.append(propcorrect)\n",
    "    randprops_direct.append(propdirect)\n",
    "    print(i+1, \"th iteration complete!!-------------------------------------------------------\")\n",
    "\n",
    "print(np.mean(randprops_liquid), np.mean(randprops_direct), randprops_liquid, randprops_direct)\n"
   ]
  },
  {
   "cell_type": "code",
   "execution_count": null,
   "metadata": {
    "scrolled": true
   },
   "outputs": [],
   "source": [
    "zipfprops_liquid, zipfprops_direct = [], []\n",
    "for i in range(10):\n",
    "    n = 100 # number of people\n",
    "    zipf_truecomps, zipf_nbpairs = generate_zipfgraph(n, repeat=3)\n",
    "    propcorrect, propdirect, _, _, _, _ = simulate_liquid(zipf_truecomps, zipf_nbpairs, rounds=100, mechanism=\"probstandard\")\n",
    "    \n",
    "    zipfprops_liquid.append(propcorrect)\n",
    "    zipfprops_direct.append(propdirect)\n",
    "    print(i+1, \"th iteration complete!!-------------------------------------------------------\")\n",
    "\n",
    "print(np.mean(zipfprops_liquid), np.mean(zipfprops_direct),zipfprops_liquid, zipfprops_direct)\n"
   ]
  },
  {
   "cell_type": "code",
   "execution_count": null,
   "metadata": {
    "scrolled": true
   },
   "outputs": [],
   "source": [
    "# 100 instances of 10 rounds\n",
    "zipfprops_liquid, zipfprops_direct = [], []\n",
    "for i in range(100):\n",
    "    n = 100 # number of people\n",
    "    zipf_truecomps, zipf_nbpairs = generate_zipfgraph(n, repeat=3)\n",
    "    propcorrect, propdirect, _, _, _, _ = simulate_liquid(zipf_truecomps, zipf_nbpairs, rounds=10, mechanism=\"probstandard\")\n",
    "    \n",
    "    zipfprops_liquid.append(propcorrect)\n",
    "    zipfprops_direct.append(propdirect)\n",
    "    print(i+1, \"th iteration complete!!-------------------------------------------------------\")\n",
    "\n",
    "print(np.mean(zipfprops_liquid), np.mean(zipfprops_direct),zipfprops_liquid, zipfprops_direct)\n"
   ]
  },
  {
   "cell_type": "code",
   "execution_count": null,
   "metadata": {
    "scrolled": true
   },
   "outputs": [],
   "source": [
    "# 100 instances of 5 rounds\n",
    "zipfprops_liquid, zipfprops_direct = [], []\n",
    "for i in range(100):\n",
    "    n = 100 # number of people\n",
    "    zipf_truecomps, zipf_nbpairs = generate_zipfgraph(n, repeat=3)\n",
    "    propcorrect, propdirect, _, _, _, _ = simulate_liquid(zipf_truecomps, zipf_nbpairs, rounds=5, mechanism=\"probstandard\")\n",
    "    \n",
    "    zipfprops_liquid.append(propcorrect)\n",
    "    zipfprops_direct.append(propdirect)\n",
    "    print(i+1, \"th iteration complete!!-------------------------------------------------------\")\n",
    "\n",
    "print(np.mean(zipfprops_liquid), np.mean(zipfprops_direct),zipfprops_liquid, zipfprops_direct)\n"
   ]
  },
  {
   "cell_type": "markdown",
   "metadata": {},
   "source": [
    "## weightedprob"
   ]
  },
  {
   "cell_type": "code",
   "execution_count": null,
   "metadata": {},
   "outputs": [],
   "source": [
    "# Star structure 1\n",
    "starprops_liquid = []\n",
    "starprops_direct = []\n",
    "for center_competency in [0.0, 0.2, 0.4, 0.6, 0.7, 0.8, 0.9, 1.0]:\n",
    "    star_truecomps = np.array([center_competency]+[.6 for i in range(8)]) # true competencies\n",
    "    star_nbpairs = np.array([(0, i) for i in range(1,9)]) # pairs of neighbors\n",
    "    print(\"Center competency:\", center_competency)\n",
    "    propcorrect, propdirect, _, _, _, _ = simulate_liquid(star_truecomps, star_nbpairs, rounds=1000, mechanism=\"weightedprob\")\n",
    "    \n",
    "    starprops_liquid.append(propcorrect)\n",
    "    starprops_direct.append(propdirect)\n",
    "    # simulate_liquid(star_truecomps, star_nbpairs, rounds=100, mechanism=\"truestandard\")\n",
    "print(np.mean(starprops_liquid), np.mean(starprops_direct),starprops_liquid, starprops_direct)"
   ]
  },
  {
   "cell_type": "code",
   "execution_count": null,
   "metadata": {
    "scrolled": true
   },
   "outputs": [],
   "source": [
    "# Simulate a bunch, 50 rounds\n",
    "\n",
    "randprops_liquid, randprops_direct = [], []\n",
    "for i in range(100):\n",
    "    n = 100 # number of people\n",
    "    rand_truecomps = np.random.random_sample(size = n)\n",
    "    rand_nbpairs = construct_neighborpairs(n)\n",
    "    propcorrect, propdirect, _, _, _, _ = simulate_liquid(rand_truecomps, rand_nbpairs, rounds=50, mechanism=\"weightedprob\")\n",
    "    \n",
    "    randprops_liquid.append(propcorrect)\n",
    "    randprops_direct.append(propdirect)\n",
    "    print(i+1, \"th iteration complete!!-------------------------------------------------------\")\n",
    "\n",
    "print(np.mean(randprops_liquid), np.mean(randprops_direct), randprops_liquid, randprops_direct)\n"
   ]
  },
  {
   "cell_type": "code",
   "execution_count": null,
   "metadata": {
    "scrolled": true
   },
   "outputs": [],
   "source": [
    "zipfprops_liquid, zipfprops_direct = [], []\n",
    "for i in range(10):\n",
    "    n = 100 # number of people\n",
    "    zipf_truecomps, zipf_nbpairs = generate_zipfgraph(n, repeat=3)\n",
    "    propcorrect, propdirect, _, _, _, _ = simulate_liquid(zipf_truecomps, zipf_nbpairs, rounds=100, mechanism=\"weightedprob\")\n",
    "    \n",
    "    zipfprops_liquid.append(propcorrect)\n",
    "    zipfprops_direct.append(propdirect)\n",
    "    print(i+1, \"th iteration complete!!-------------------------------------------------------\")\n",
    "\n",
    "print(np.mean(zipfprops_liquid), np.mean(zipfprops_direct),zipfprops_liquid, zipfprops_direct)\n"
   ]
  },
  {
   "cell_type": "code",
   "execution_count": null,
   "metadata": {
    "scrolled": true
   },
   "outputs": [],
   "source": [
    "# 100 instances of 10 rounds\n",
    "zipfprops_liquid, zipfprops_direct = [], []\n",
    "for i in range(100):\n",
    "    n = 100 # number of people\n",
    "    zipf_truecomps, zipf_nbpairs = generate_zipfgraph(n, repeat=3)\n",
    "    propcorrect, propdirect, _, _, _, _ = simulate_liquid(zipf_truecomps, zipf_nbpairs, rounds=10, mechanism=\"weightedprob\")\n",
    "    \n",
    "    zipfprops_liquid.append(propcorrect)\n",
    "    zipfprops_direct.append(propdirect)\n",
    "    print(i+1, \"th iteration complete!!-------------------------------------------------------\")\n",
    "\n",
    "print(np.mean(zipfprops_liquid), np.mean(zipfprops_direct),zipfprops_liquid, zipfprops_direct)\n"
   ]
  },
  {
   "cell_type": "code",
   "execution_count": null,
   "metadata": {
    "scrolled": true
   },
   "outputs": [],
   "source": [
    "# 100 instances of 5 rounds\n",
    "zipfprops_liquid, zipfprops_direct = [], []\n",
    "for i in range(100):\n",
    "    n = 100 # number of people\n",
    "    zipf_truecomps, zipf_nbpairs = generate_zipfgraph(n, repeat=3)\n",
    "    propcorrect, propdirect, _, _, _, _ = simulate_liquid(zipf_truecomps, zipf_nbpairs, rounds=5, mechanism=\"weightedprob\")\n",
    "    \n",
    "    zipfprops_liquid.append(propcorrect)\n",
    "    zipfprops_direct.append(propdirect)\n",
    "    print(i+1, \"th iteration complete!!-------------------------------------------------------\")\n",
    "\n",
    "print(np.mean(zipfprops_liquid), np.mean(zipfprops_direct),zipfprops_liquid, zipfprops_direct)\n"
   ]
  },
  {
   "cell_type": "markdown",
   "metadata": {},
   "source": [
    "# Comparisons & Plots"
   ]
  },
  {
   "cell_type": "code",
   "execution_count": null,
   "metadata": {},
   "outputs": [],
   "source": [
    "# Simulate liquid, compare stuff\n",
    "\n",
    "def simulate_liquid_compare(truecompetencies, neighborpairs, pubcompetencies=None, rounds=100, mechanism=\"standard\", mode=\"allocation\"):\n",
    "    \"\"\"Returns final public competencies, arrays of numbers = np.random.binomial(n, p, 1000)s = np.random.binomial(n, p, 1000) of voters who allocate, nubmer of voters who vote correctly\n",
    "    ARGS:\n",
    "        truecompetencies: list of true competencies (between 0 and 1) for each voter\n",
    "        neighborpairs: list of unrepeated, undirected pairs of neighbors; not necessarily ordered\n",
    "    Options:\n",
    "        pubcompetencies: list of public competency distributions for each voter, as parameters for Beta dist\n",
    "        rounds: # of iterative rounds to vote\n",
    "        mechanism1: local delegation mechanism to use (see allocate function)\n",
    "        mechanism2: local delegation mechanism to compare to (see allocate function)\n",
    "        \n",
    "    OUTPUTS:\n",
    "        pubcompetencies: list of final public competency distributions for each voter, as parameters for Beta dist\n",
    "        numallocated: number of voters who allocate their votes in each round\n",
    "        numcorrect: number of voters who vote correctly in each round\n",
    "        numdirect: under direct democracy\n",
    "    \"\"\"\n",
    "    \n",
    "    n = len(truecompetencies)\n",
    "    neighbors = construct_neighbors(truecompetencies, neighborpairs)\n",
    "    \n",
    "    if pubcompetencies==None:\n",
    "        pubcompetencies = prior_competencies(truecompetencies) # initialize to Beta(1,1)\n",
    "    \n",
    "    numallocated = []\n",
    "    numcorrect = []\n",
    "    numdirect = [] # can ignore: testing, for comparison\n",
    "    prop_correct_allocations = []\n",
    "    better_than_direct = []\n",
    "\n",
    "\n",
    "    for t in range(rounds):\n",
    "        # allocate\n",
    "        allocation = allocate(truecompetencies, pubcompetencies, neighbors, mechanism=mechanism)\n",
    "        true_allocation = allocate(truecompetencies, pubcompetencies, neighbors, mechanism=\"truestandard\")\n",
    "        direct_allocation = [i for i in range(n)]\n",
    "        \n",
    "        correct_allocation_count = 0\n",
    "        \n",
    "        for i in range(n):\n",
    "            if allocation[i] == true_allocation[i]:\n",
    "                correct_allocation_count += 1\n",
    "        \n",
    "        prop_correct_allocations.append(correct_allocation_count / n)\n",
    "                \n",
    "        # vote\n",
    "        initialvotes = np.random.binomial(1, truecompetencies)\n",
    "        allocatedvotes = initialvotes[allocation]\n",
    "        \n",
    "        allocated = np.count_nonzero(np.array(allocation)-np.array([i for i in range(len(truecompetencies))])) # number of voters who allocated their vote to someone else\n",
    "        \n",
    "        numallocated.append(allocated) # add number of voters who give up their vote\n",
    "        numcorrect.append(np.sum(allocatedvotes)) # add number correct to correct\n",
    "        numdirect.append(np.sum(initialvotes)) # add initial number correct under directdemocracy to numdirect\n",
    "        better_than_direct.append(numcorrect[t] >= numdirect[t])\n",
    "        \n",
    "        # update perceived competencies\n",
    "        pubcompetencies = update_competencies(pubcompetencies, initialvotes) # NOTE: judging everyone based on their broadcasted vote (possibly not counted)\n",
    "        # pubcompetencies = update_competencies(pubcompetencies, allocatedvotes) #NOTE: judging everyone by their final (possibly allocated) vote!!!!\n",
    "    \n",
    "    propcorrect = np.sum(numcorrect>np.ceil((n+1)/2.))/rounds # proportion over time of votes that are \"correct\" (>1/2 of voters vote correctly)\n",
    "    propdirect = np.sum(numdirect>np.ceil((n+1)/2.))/rounds\n",
    "    \n",
    "    # Return allocation performance of standard (vs. truestandard) per round\n",
    "    if mode==\"allocation\":\n",
    "#         print(\"Proportion of correct allocations per round:\\n\", prop_correct_allocations, '\\n')\n",
    "        return prop_correct_allocations\n",
    "        \n",
    "    # Return proportion of correct votes per round\n",
    "    elif mode==\"votes\":\n",
    "#         print(\"Proportion of correct votes per round:\\n\", np.array(numcorrect) / n, '\\n')\n",
    "        return np.array(numcorrect) / n\n"
   ]
  },
  {
   "cell_type": "code",
   "execution_count": null,
   "metadata": {},
   "outputs": [],
   "source": [
    "import matplotlib.pyplot as plt"
   ]
  },
  {
   "cell_type": "code",
   "execution_count": null,
   "metadata": {},
   "outputs": [],
   "source": [
    "def avg_allocation_performance(truecompetencies, neighborpairs, pubcompetencies=None, rounds=100, iter=10, mechanism=\"standard\"):\n",
    "    \n",
    "    return simulate_avg(simulate_liquid_compare, {\"truecompetencies\": truecompetencies, \"neighborpairs\": neighborpairs,\n",
    "                                                  \"pubcompetencies\": pubcompetencies,\n",
    "                                                  \"rounds\": rounds, \"mechanism\": mechanism, \"mode\": \"allocation\"}, iter)"
   ]
  },
  {
   "cell_type": "code",
   "execution_count": null,
   "metadata": {},
   "outputs": [],
   "source": [
    "def avg_vote_performance(truecompetencies, neighborpairs, pubcompetencies=None, rounds=100, iter=10):\n",
    "    standard_performance = simulate_avg(simulate_liquid_compare, {\"truecompetencies\": truecompetencies, \"neighborpairs\": neighborpairs,\n",
    "                                              \"pubcompetencies\": pubcompetencies,\n",
    "                                              \"rounds\": rounds, \"mechanism\": \"standard\", \"mode\": \"votes\"}, iter)\n",
    "    truestandard_performance = simulate_avg(simulate_liquid_compare, {\"truecompetencies\": truecompetencies, \"neighborpairs\": neighborpairs,\n",
    "                                              \"pubcompetencies\": pubcompetencies,\n",
    "                                              \"rounds\": rounds, \"mechanism\": \"truestandard\", \"mode\": \"votes\"}, iter)\n",
    "    direct_performance = simulate_avg(simulate_liquid_compare, {\"truecompetencies\": truecompetencies, \"neighborpairs\": neighborpairs,\n",
    "                                              \"pubcompetencies\": pubcompetencies,\n",
    "                                              \"rounds\": rounds, \"mechanism\": \"direct\", \"mode\": \"votes\"}, iter)\n",
    "    return standard_performance, truestandard_performance, direct_performance"
   ]
  },
  {
   "cell_type": "code",
   "execution_count": null,
   "metadata": {},
   "outputs": [],
   "source": [
    "def simulate_avg(func, pm, iter):\n",
    "    lst = []\n",
    "    for i in range(iter):\n",
    "        lst.append(func(**pm))\n",
    "    \n",
    "    return np.mean(np.array(lst), axis=0)"
   ]
  },
  {
   "cell_type": "code",
   "execution_count": null,
   "metadata": {},
   "outputs": [],
   "source": [
    "def run_zipf_graphs(func, pm, n, iter, correlation_parameter, repeat=3):\n",
    "    lst = []\n",
    "    for i in range(iter):\n",
    "        pm[\"truecompetencies\"], pm[\"neighborpairs\"] = generate_zipfgraph(n, repeat=repeat)\n",
    "        if correlation_parameter == \"anticorrelated\":\n",
    "            pm[\"truecompetencies\"] = [1-c for c in pm[\"truecompetencies\"]]\n",
    "        elif correlation_parameter == \"uncorrelated\":\n",
    "            pm[\"truecompetencies\"] = [np.random.uniform() for c in range(len(pm[\"truecompetencies\"]))]\n",
    "        lst.append(simulate_avg(func, pm, iter))\n",
    "    \n",
    "    return np.mean(np.array(lst), axis=0)"
   ]
  },
  {
   "cell_type": "code",
   "execution_count": null,
   "metadata": {},
   "outputs": [],
   "source": [
    "# Generate plot for Zipf graphs with n vertices\n",
    "\n",
    "def plot_allocation_performance_zipfgraphs(n, correlation_parameter, repeat=3, tests=100, rounds=50):\n",
    "    \n",
    "#     allocation_performances = []\n",
    "    \n",
    "#     # Generate `tests` different graphs\n",
    "#     for i in range(tests):\n",
    "#         zipf_truecomps, zipf_nbpairs = generate_zipfgraph(n, repeat=repeat)\n",
    "#         allocation_performances.append(avg_allocation_performance(zipf_truecomps, zipf_nbpairs, iter=2, rounds=rounds))\n",
    "    \n",
    "#     allocation_performances = np.mean(np.array(allocation_performances), axis=0)\n",
    "\n",
    "#     zipf_truecomps, zipf_nbpairs = generate_zipfgraph(n, repeat=repeat)\n",
    "    allocation_performances = run_zipf_graphs(avg_allocation_performance, {\"iter\":2, \"rounds\": rounds}, n, 2,\n",
    "                                              correlation_parameter\n",
    "                                              )\n",
    "            \n",
    "    plt.figure()\n",
    "    plt.plot(range(1, rounds + 1), allocation_performances)\n",
    "    plt.xlabel(\"Round\")\n",
    "    plt.ylabel(\"Proportion of Correct Allocations\")\n",
    "    plt.title(\"Proportion of Correct Allocations Per Round\")\n",
    "    plt.show()"
   ]
  },
  {
   "cell_type": "code",
   "execution_count": null,
   "metadata": {},
   "outputs": [],
   "source": [
    "# Generate plot for Zipf graphs with n vertices\n",
    "\n",
    "def plot_vote_performance_zipfgraphs(n, correlation_parameter, repeat=3, tests=100, rounds=50):\n",
    "    \n",
    "    standard_vote_performances, truestandard_vote_performances, direct_vote_performances = [], [], []\n",
    "    \n",
    "    # Generate `tests` different graphs\n",
    "    for i in range(tests):\n",
    "        zipf_truecomps, zipf_nbpairs = generate_zipfgraph(n, repeat=repeat)\n",
    "        if correlation_parameter == \"anticorrelated\":\n",
    "            zipf_truecomps = [1-c for c in zipf_truecomps]\n",
    "        elif correlation_parameter == \"uncorrelated\":\n",
    "            zipf_truecomps = [np.random.uniform() for c in range(len(zipf_truecomps))]\n",
    "        standard, truestandard, direct = avg_vote_performance(zipf_truecomps, zipf_nbpairs, iter=2, rounds=rounds)\n",
    "        standard_vote_performances.append(standard)\n",
    "        truestandard_vote_performances.append(truestandard)\n",
    "        direct_vote_performances.append(direct)\n",
    "    \n",
    "    standard_vote_performances = np.mean(np.array(standard_vote_performances), axis=0)\n",
    "    truestandard_vote_performances = np.mean(np.array(truestandard_vote_performances), axis=0)\n",
    "    direct_vote_performances = np.mean(np.array(direct_vote_performances), axis=0)\n",
    "            \n",
    "    plt.figure()\n",
    "    standard, = plt.plot(range(1, rounds + 1), standard_vote_performances, color=\"g\", label=\"Standard\")\n",
    "    truestandard, = plt.plot(range(1, rounds + 1), truestandard_vote_performances, color=\"b\", label=\"True Standard\")\n",
    "    direct, = plt.plot(range(1, rounds + 1), direct_vote_performances, color=\"r\", label=\"Direct\")\n",
    "    plt.legend(handles=[standard, truestandard, direct])\n",
    "\n",
    "    plt.xlabel(\"Round\")\n",
    "    plt.ylabel(\"Proportion of Correct Votes\")\n",
    "    plt.title(\"Proportion of Correct Votes Per Round\")\n",
    "    plt.show()"
   ]
  },
  {
   "cell_type": "code",
   "execution_count": null,
   "metadata": {
    "scrolled": true
   },
   "outputs": [],
   "source": [
    "# Random graph simulation\n",
    "\n",
    "n = 1000 # number of people\n",
    "rand_truecomps = np.random.random_sample(size = n)\n",
    "rand_nbpairs = construct_neighborpairs(n)\n",
    "plot_allocation_performance(rand_truecomps, rand_nbpairs, rounds=50)\n",
    "plot_vote_performance(rand_truecomps, rand_nbpairs, rounds=100)\n",
    "\n"
   ]
  },
  {
   "cell_type": "code",
   "execution_count": null,
   "metadata": {
    "scrolled": true
   },
   "outputs": [],
   "source": [
    "plot_vote_performance_zipfgraphs(100, \"correlated\", tests=2)\n",
    "plot_vote_performance_zipfgraphs(100, \"anticorrelated\", tests=2)\n",
    "plot_vote_performance_zipfgraphs(100, \"uncorrelated\", tests=2)"
   ]
  },
  {
   "cell_type": "code",
   "execution_count": null,
   "metadata": {
    "scrolled": true
   },
   "outputs": [],
   "source": [
    "plot_allocation_performance_zipfgraphs(100, \"correlated\", tests=2)\n",
    "plot_allocation_performance_zipfgraphs(100, \"anticorrelated\", tests=2)\n",
    "plot_allocation_performance_zipfgraphs(100, \"uncorrelated\", tests=2)"
   ]
  },
  {
   "cell_type": "markdown",
   "metadata": {},
   "source": [
    "# Grid Structure"
   ]
  },
  {
   "cell_type": "code",
   "execution_count": null,
   "metadata": {},
   "outputs": [],
   "source": [
    "def make_grid(s, competency=\"random\"):\n",
    "    \"\"\" Creates a s by s square grid\n",
    "    ARGS:\n",
    "        s: number of voters along each axis, total of s*s voters\n",
    "    \n",
    "    Options:\n",
    "        competency: method of initializing competencies\n",
    "    Competencies:\n",
    "        random: assigns random competencies between 0 and 1\n",
    "        [prop]: assigns all voters a fixed competency equal to the input\n",
    "        periodic: other periodic tilings interesting, esp. if s is not divisible by period\n",
    "        gradient1d: gradient of competencies, each with (i+1)/s (with 1/s on the left and 1 on the right (each row))\n",
    "        gradient2d: gradient of comeptencies, each with (i+1+j+1)/(s*s) (with 2/(s*s) on top left and 1 in bottom right)\n",
    "        rings: ring of evenly spaced competencies, with center (1 voter if odd, 4 voters if even) having competency 1 and outermost ring having competency 0\n",
    "        \n",
    "    OUTPUTS:\n",
    "        truecomps: list of true competencies\n",
    "        nbpairs: list of pairs of neighbors\n",
    "    \"\"\"\n",
    "    \n",
    "    nbpairs = []\n",
    "    for i in range(s-1):\n",
    "        for j in range(s):\n",
    "            nbpairs.append((i+j*s, i+j*s+1))\n",
    "    for i in range(s):\n",
    "        for j in range(s-1):\n",
    "            nbpairs.append((i+j*s, i+j*s+s))\n",
    "    \n",
    "    try:\n",
    "        if competency>=0 and competency<=1:\n",
    "            truecomps = np.repeat(competency, s*s)\n",
    "    except:\n",
    "        if competency==\"gradient1d\":\n",
    "            truecomps = np.tile(1/s*np.arange(1, s+1).flatten(),s)\n",
    "        elif competency==\"gradient2d\":\n",
    "            truecomps = 1/(s*s)*np.array([int(i/s)+1+i%s+1 for i in range(s*s)])\n",
    "        elif competency==\"rings\":\n",
    "            maxring = np.floor((s+1)/2)\n",
    "            if s%2==1: # odd\n",
    "                truecomps = np.eye(s, s)\n",
    "                for i in range(s):\n",
    "                    for j in range(s):\n",
    "                        ring = max(np.abs(i-(s-1)/2), np.abs(j-(s-1)/2)) # ring from inside\n",
    "                        truecomps[i][j] = (maxring-1-ring)/(maxring-1)\n",
    "            elif s%2==0: # even\n",
    "                truecomps = np.eye(s, s)\n",
    "                for i in range(s):\n",
    "                    for j in range(s):\n",
    "                        ring = max(np.abs(i-(s-1)/2)-0.5, np.abs(j-(s-1)/2)-0.5) # ring from inside\n",
    "                        truecomps[i][j] = (maxring-1-ring)/(maxring-1)\n",
    "            # print(np.reshape(truecomps,(s,s)))\n",
    "            truecomps = truecomps.flatten()\n",
    "            \n",
    "        else: #if competency==\"random\":\n",
    "            truecomps = np.random.random_sample(size = s*s)\n",
    "    \n",
    "    return truecomps, nbpairs\n"
   ]
  },
  {
   "cell_type": "code",
   "execution_count": null,
   "metadata": {
    "scrolled": true
   },
   "outputs": [],
   "source": [
    "# Random\n",
    "randgridprops_liquid, randgridprops_direct = [], []\n",
    "for i in range(100):\n",
    "    randgrid_comps, randgrid_nbpairs = make_grid(s=5, competency=\"random\")\n",
    "    propcorrect, propdirect, _, _, _, _ = simulate_liquid(randgrid_comps, randgrid_nbpairs, rounds=100, mechanism=\"standard\")\n",
    "    \n",
    "    randgridprops_liquid.append(propcorrect)\n",
    "    randgridprops_direct.append(propdirect)\n",
    "    print(i+1, \"th iteration complete!!-------------------------------------------------------\")\n",
    "print(np.mean(randgridprops_liquid), np.mean(randgridprops_direct),randgridprops_liquid, randgridprops_direct)\n"
   ]
  },
  {
   "cell_type": "code",
   "execution_count": null,
   "metadata": {
    "scrolled": true
   },
   "outputs": [],
   "source": [
    "# All fixed same. Note: interesting to consider various shared competencies, e.g. improvement at low competencies but deprovement at high competencies\n",
    "fixedgridprops_liquid, fixedgridprops_direct = [], []\n",
    "for i in range(100):\n",
    "    fixedgrid_comps, fixedgrid_nbpairs = make_grid(s=5, competency=0.2)\n",
    "    propcorrect, propdirect, _, _, _, _ = simulate_liquid(fixedgrid_comps, fixedgrid_nbpairs, rounds=100, mechanism=\"standard\")\n",
    "    \n",
    "    fixedgridprops_liquid.append(propcorrect)\n",
    "    fixedgridprops_direct.append(propdirect)\n",
    "    print(i+1, \"th iteration complete!!-------------------------------------------------------\")\n",
    "print(np.mean(fixedgridprops_liquid), np.mean(fixedgridprops_direct),fixedgridprops_liquid, fixedgridprops_direct)\n"
   ]
  },
  {
   "cell_type": "code",
   "execution_count": null,
   "metadata": {
    "scrolled": true
   },
   "outputs": [],
   "source": [
    "# 1d gradient\n",
    "gradient1dgridprops_liquid, gradient1dgridprops_direct = [], []\n",
    "for i in range(100):\n",
    "    gradient1dgrid_comps, gradient1dgrid_nbpairs = make_grid(s=5, competency=\"gradient1d\")\n",
    "    propcorrect, propdirect, _, _, _, _ = simulate_liquid(gradient1dgrid_comps, gradient1dgrid_nbpairs, rounds=100, mechanism=\"standard\")\n",
    "    \n",
    "    gradient1dgridprops_liquid.append(propcorrect)\n",
    "    gradient1dgridprops_direct.append(propdirect)\n",
    "    print(i+1, \"th iteration complete!!-------------------------------------------------------\")\n",
    "print(np.mean(gradient1dgridprops_liquid), np.mean(gradient1dgridprops_direct),gradient1dgridprops_liquid, gradient1dgridprops_direct)"
   ]
  },
  {
   "cell_type": "code",
   "execution_count": null,
   "metadata": {
    "scrolled": true
   },
   "outputs": [],
   "source": [
    "#2d gradient\n",
    "gradient2dgridprops_liquid, gradient2dgridprops_direct = [], []\n",
    "for i in range(100):\n",
    "    gradient2dgrid_comps, gradient2dgrid_nbpairs = make_grid(s=5, competency=\"gradient2d\")\n",
    "    propcorrect, propdirect, _, _, _, _ = simulate_liquid(gradient2dgrid_comps, gradient2dgrid_nbpairs, rounds=100, mechanism=\"standard\")\n",
    "    \n",
    "    gradient2dgridprops_liquid.append(propcorrect)\n",
    "    gradient2dgridprops_direct.append(propdirect)\n",
    "    print(i+1, \"th iteration complete!!-------------------------------------------------------\")\n",
    "print(np.mean(gradient2dgridprops_liquid), np.mean(gradient2dgridprops_direct),gradient2dgridprops_liquid, gradient2dgridprops_direct)"
   ]
  },
  {
   "cell_type": "code",
   "execution_count": null,
   "metadata": {
    "scrolled": true
   },
   "outputs": [],
   "source": [
    "#rings\n",
    "ringgridprops_liquid, ringgridprops_direct = [], []\n",
    "for i in range(100):\n",
    "    ringgrid_comps, ringgrid_nbpairs = make_grid(s=5, competency=\"rings\")\n",
    "    propcorrect, propdirect, _, _, _, _ = simulate_liquid(ringgrid_comps, ringgrid_nbpairs, rounds=100, mechanism=\"standard\")\n",
    "\n",
    "    ringgridprops_liquid.append(propcorrect)\n",
    "    ringgridprops_direct.append(propdirect)\n",
    "    print(i+1, \"th iteration complete!!-------------------------------------------------------\")\n",
    "print(np.mean(ringgridprops_liquid), np.mean(ringgridprops_direct),ringgridprops_liquid, ringgridprops_direct)\n"
   ]
  },
  {
   "cell_type": "markdown",
   "metadata": {},
   "source": [
    "# Do No Harm Principle"
   ]
  },
  {
   "cell_type": "code",
   "execution_count": null,
   "metadata": {},
   "outputs": [],
   "source": [
    "def simulate_liquid_no_harm(truecompetencies, neighborpairs, pubcompetencies=None, rounds=100, mechanism=\"standard\"):\n",
    "    \"\"\"\n",
    "    Every 10 rounds, we see if we did worse than during the previous 10. If so,\n",
    "    we revert to the allocation of 10 rounds ago and save this for every iteration.\n",
    "    Essentially, we freeze ourselves.\n",
    "    \"\"\"\n",
    "    n = len(truecompetencies)\n",
    "    neighbors = construct_neighbors(truecompetencies, neighborpairs)\n",
    "    \n",
    "    if pubcompetencies==None:\n",
    "        pubcompetencies = prior_competencies(truecompetencies) # initialize to Beta(1,1)\n",
    "    \n",
    "    numallocated = []\n",
    "    numcorrect, numcorrect_liquid = [], []\n",
    "    numdirect = [] # can ignore: testing, for comparison\n",
    "    last_allocation = []\n",
    "    last_prop_right = 0.0\n",
    "    liquid_100 = []\n",
    "    correct_per_100 = []\n",
    "    fixed_at_allocation = False\n",
    "    for t in range(1, rounds):\n",
    "        if t % 10 == 0:\n",
    "            correct_per_100.append(sum(liquid_100))\n",
    "            if not fixed_at_allocation and sum(liquid_100) < last_prop_right * 10.0:\n",
    "                print(\"Fixing a certain allocation\", t, sum(liquid_100), last_prop_right)\n",
    "                fixed_at_allocation = True\n",
    "            last_prop_right = sum(liquid_100)/10.0\n",
    "            liquid_100 = []\n",
    "                \n",
    "        # allocate\n",
    "        if fixed_at_allocation:\n",
    "            allocation = last_allocation\n",
    "        else:\n",
    "            allocation = allocate(truecompetencies, pubcompetencies, neighbors, mechanism=mechanism)\n",
    "        if t % 100 == 1:\n",
    "            last_allocation = allocation\n",
    "        liquid_allocation = allocate(truecompetencies, pubcompetencies, neighbors, mechanism=mechanism)\n",
    "        # vote\n",
    "        initialvotes = np.random.binomial(1, truecompetencies)\n",
    "        liquid_allocatedvotes, allocatedvotes = initialvotes[liquid_allocation], initialvotes[allocation]\n",
    "        \n",
    "        numcorrect.append(np.sum(allocatedvotes)) # add number correct to correct\n",
    "        numcorrect_liquid.append(np.sum(liquid_allocatedvotes))\n",
    "        liquid_100.append(np.sum(allocatedvotes) > np.ceil((n+1)/2.))\n",
    "\n",
    "        numdirect.append(np.sum(initialvotes)) # add initial number correct under directdemocracy to numdirect\n",
    "\n",
    "        # update perceived competencies\n",
    "        pubcompetencies = update_competencies(pubcompetencies, initialvotes) # NOTE: judging everyone based on their broadcasted vote (possibly not counted)\n",
    "        # pubcompetencies = update_competencies(pubcompetencies, allocatedvotes) #NOTE: judging everyone by their final (possibly allocated) vote!!!!\n",
    "    \n",
    "    propcorrect = np.sum(numcorrect>np.ceil((n+1)/2.))/rounds # proportion over time of votes that are \"correct\" (>1/2 of voters vote correctly)\n",
    "    propcorrect_liquid = np.sum(numcorrect_liquid>np.ceil((n+1)/2.))/rounds\n",
    "    propdirect = np.sum(numdirect>np.ceil((n+1)/2.))/rounds\n",
    "    print(\"Proportion of rounds where smart liquid electorate is right:\", propcorrect,\n",
    "          \"\\nProportion of rounds where direct democracy is right: \", propdirect,\n",
    "         \"\\nProportion of rounds where naive liquid is right: \", propcorrect_liquid)\n",
    "    return propcorrect, propdirect, propcorrect_liquid, correct_per_100"
   ]
  },
  {
   "cell_type": "code",
   "execution_count": null,
   "metadata": {},
   "outputs": [],
   "source": [
    "starprops_liquid = []\n",
    "starprops_direct = []\n",
    "star_truecomps = np.array([0.8]+[.6 for i in range(100)]) # true competencies\n",
    "star_nbpairs = np.array([(0, i) for i in range(1,100)]) # pairs of neighbors\n",
    "propcorrect, propdirect, propcorrect_liquid, per_100 = simulate_liquid_no_harm(star_truecomps, star_nbpairs, rounds=1001, mechanism=\"standard\")\n",
    "plt.plot(range(0, 1000, 10), per_100)\n",
    "plt.title(\"Accuracy per 10 Rounds (Smart Liquid)\")\n",
    "plt.xlabel(\"Round\"); plt.ylabel(\"# of Correct\")"
   ]
  },
  {
   "cell_type": "markdown",
   "metadata": {},
   "source": [
    "# Grid Plots"
   ]
  },
  {
   "cell_type": "code",
   "execution_count": null,
   "metadata": {},
   "outputs": [],
   "source": [
    "def run_grid_graphs(func, pm, s, iter, competency):\n",
    "    lst = []\n",
    "    for i in range(iter):\n",
    "        pm[\"truecompetencies\"], pm[\"neighborpairs\"] = make_grid(s, competency=competency)\n",
    "        lst.append(simulate_avg(func, pm, iter))\n",
    "    \n",
    "    return np.mean(np.array(lst), axis=0)"
   ]
  },
  {
   "cell_type": "code",
   "execution_count": null,
   "metadata": {},
   "outputs": [],
   "source": [
    "# Generate plot for Grid graphs with n vertices\n",
    "\n",
    "def plot_allocation_performance_gridgraphs(s, competency, tests=100, rounds=50):\n",
    "    \n",
    "#     allocation_performances = []\n",
    "    \n",
    "#     # Generate `tests` different graphs\n",
    "#     for i in range(tests):\n",
    "#         zipf_truecomps, zipf_nbpairs = generate_zipfgraph(n, repeat=repeat)\n",
    "#         allocation_performances.append(avg_allocation_performance(zipf_truecomps, zipf_nbpairs, iter=2, rounds=rounds))\n",
    "    \n",
    "#     allocation_performances = np.mean(np.array(allocation_performances), axis=0)\n",
    "\n",
    "#     zipf_truecomps, zipf_nbpairs = generate_zipfgraph(n, repeat=repeat)\n",
    "    allocation_performances = run_grid_graphs(avg_allocation_performance, {\"iter\":5, \"rounds\": rounds}, s, tests,\n",
    "                                              competency\n",
    "                                              )\n",
    "            \n",
    "    plt.figure()\n",
    "    plt.plot(range(1, rounds + 1), allocation_performances)\n",
    "    plt.xlabel(\"Round\")\n",
    "    plt.ylabel(\"Proportion of Correct Allocations\")\n",
    "    try: \n",
    "        plt.title(\"Correct Allocations Per Round (\" + competency + \"), s = \" + str(s))\n",
    "        plt.savefig(\"grid_correctallocations_\"+competency+\"_\"+str(s))\n",
    "    except: \n",
    "        plt.title(\"Correct Allocations Per Round (fixed=\" + str(competency) + \"), s = \" + str(s))\n",
    "        plt.savefig(\"grid_correctallocations_\"+\"fixed_\"+str(s))\n",
    "    plt.show()"
   ]
  },
  {
   "cell_type": "code",
   "execution_count": null,
   "metadata": {
    "scrolled": true
   },
   "outputs": [],
   "source": [
    "plot_allocation_performance_gridgraphs(10, \"random\", tests=2)\n",
    "plot_allocation_performance_gridgraphs(10, 0.5, tests=2)\n",
    "plot_allocation_performance_gridgraphs(10, \"gradient1d\", tests=2)\n",
    "plot_allocation_performance_gridgraphs(10, \"gradient2d\", tests=2)\n",
    "plot_allocation_performance_gridgraphs(10, \"rings\", tests=2)"
   ]
  },
  {
   "cell_type": "code",
   "execution_count": null,
   "metadata": {},
   "outputs": [],
   "source": [
    "# Generate plot for Zipf graphs with n vertices\n",
    "\n",
    "def plot_vote_performance_gridgraphs(s, competency, tests=100, rounds=50):\n",
    "    \n",
    "    standard_vote_performances, truestandard_vote_performances, direct_vote_performances = [], [], []\n",
    "    \n",
    "    # Generate `tests` different graphs\n",
    "    for i in range(tests):\n",
    "        grid_truecomps, grid_nbpairs = make_grid(s, competency)\n",
    "        standard, truestandard, direct = avg_vote_performance(grid_truecomps, grid_nbpairs, iter=5, rounds=rounds)\n",
    "        standard_vote_performances.append(standard)\n",
    "        truestandard_vote_performances.append(truestandard)\n",
    "        direct_vote_performances.append(direct)\n",
    "    \n",
    "    standard_vote_performances = np.mean(np.array(standard_vote_performances), axis=0)\n",
    "    truestandard_vote_performances = np.mean(np.array(truestandard_vote_performances), axis=0)\n",
    "    direct_vote_performances = np.mean(np.array(direct_vote_performances), axis=0)\n",
    "            \n",
    "    plt.figure()\n",
    "    standard, = plt.plot(range(1, rounds + 1), standard_vote_performances, color=\"g\", label=\"Standard\")\n",
    "    truestandard, = plt.plot(range(1, rounds + 1), truestandard_vote_performances, color=\"b\", label=\"True Standard\")\n",
    "    direct, = plt.plot(range(1, rounds + 1), direct_vote_performances, color=\"r\", label=\"Direct\")\n",
    "    plt.legend(handles=[standard, truestandard, direct])\n",
    "\n",
    "    plt.xlabel(\"Round\")\n",
    "    plt.ylabel(\"Proportion of Correct Votes\")\n",
    "    try: \n",
    "        plt.title(\"Correct Votes Per Round (\" + competency + \"), s = \" + str(s))\n",
    "        plt.savefig(\"grid_correct_votes_\"+competency+\"_\"+str(s))\n",
    "    except: \n",
    "        plt.title(\"Correct Votes Per Round (fixed=\" + str(competency) + \"), s = \" + str(s))\n",
    "        plt.savefig(\"grid_correct_votes_\"+\"fixed_\"+str(s))\n",
    "    plt.show()"
   ]
  },
  {
   "cell_type": "code",
   "execution_count": null,
   "metadata": {
    "scrolled": true
   },
   "outputs": [],
   "source": [
    "plot_vote_performance_gridgraphs(10, \"random\", tests=2)\n",
    "plot_vote_performance_gridgraphs(10, 0.5, tests=2)\n",
    "plot_vote_performance_gridgraphs(10, \"gradient1d\", tests=2)\n",
    "plot_vote_performance_gridgraphs(10, \"gradient2d\", tests=2)\n",
    "plot_vote_performance_gridgraphs(10, \"rings\", tests=2)"
   ]
  },
  {
   "cell_type": "code",
   "execution_count": null,
   "metadata": {
    "scrolled": true
   },
   "outputs": [],
   "source": [
    "# ALL PLOTS\n",
    "t = 25 # fix\n",
    "for s in [3, 5, 10]:\n",
    "    plot_allocation_performance_gridgraphs(s, \"random\", tests=t)\n",
    "    plot_allocation_performance_gridgraphs(s, 0.5, tests=t)\n",
    "    plot_allocation_performance_gridgraphs(s, \"gradient1d\", tests=t)\n",
    "    plot_allocation_performance_gridgraphs(s, \"gradient2d\", tests=t)\n",
    "    plot_allocation_performance_gridgraphs(s, \"rings\", tests=t)\n",
    "    \n",
    "    print(\"s=\", s, \" allocations complete------------------------------------------------------------\")\n",
    "    \n",
    "    plot_vote_performance_gridgraphs(s, \"random\", tests=t)\n",
    "    plot_vote_performance_gridgraphs(s, 0.5, tests=t)\n",
    "    plot_vote_performance_gridgraphs(s, \"gradient1d\", tests=t)\n",
    "    plot_vote_performance_gridgraphs(s, \"gradient2d\", tests=t)\n",
    "    plot_vote_performance_gridgraphs(s, \"rings\", tests=t)\n",
    "    \n",
    "    print(\"s=\", s, \" DONE!!!------------------------------------------------------------\")"
   ]
  },
  {
   "cell_type": "code",
   "execution_count": null,
   "metadata": {
    "scrolled": true
   },
   "outputs": [],
   "source": [
    "# ALL PLOTS\n",
    "t = 25 # fix\n",
    "for s in [15]:\n",
    "    plot_allocation_performance_gridgraphs(s, \"random\", tests=t)\n",
    "    #plot_allocation_performance_gridgraphs(s, 0.5, tests=t)\n",
    "    plot_allocation_performance_gridgraphs(s, \"gradient1d\", tests=t)\n",
    "    #plot_allocation_performance_gridgraphs(s, \"gradient2d\", tests=t)\n",
    "    plot_allocation_performance_gridgraphs(s, \"rings\", tests=t)\n",
    "    \n",
    "    print(\"s=\", s, \" allocations complete------------------------------------------------------------\")\n",
    "    \n",
    "    plot_vote_performance_gridgraphs(s, \"random\", tests=t)\n",
    "    #plot_vote_performance_gridgraphs(s, 0.5, tests=t)\n",
    "    plot_vote_performance_gridgraphs(s, \"gradient1d\", tests=t)\n",
    "    #plot_vote_performance_gridgraphs(s, \"gradient2d\", tests=t)\n",
    "    plot_vote_performance_gridgraphs(s, \"rings\", tests=t)\n",
    "    \n",
    "    print(\"s=\", s, \" DONE!!!------------------------------------------------------------\")"
   ]
  },
  {
   "cell_type": "code",
   "execution_count": null,
   "metadata": {},
   "outputs": [],
   "source": []
  }
 ],
 "metadata": {
  "kernelspec": {
   "display_name": "Python 3",
   "language": "python",
   "name": "python3"
  },
  "language_info": {
   "codemirror_mode": {
    "name": "ipython",
    "version": 3
   },
   "file_extension": ".py",
   "mimetype": "text/x-python",
   "name": "python",
   "nbconvert_exporter": "python",
   "pygments_lexer": "ipython3",
   "version": "3.7.4"
  }
 },
 "nbformat": 4,
 "nbformat_minor": 4
}
