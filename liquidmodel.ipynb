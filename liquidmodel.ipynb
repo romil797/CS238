{
 "cells": [
  {
   "cell_type": "code",
   "execution_count": 1,
   "metadata": {},
   "outputs": [],
   "source": [
    "import numpy as np\n",
    "import random"
   ]
  },
  {
   "cell_type": "markdown",
   "metadata": {},
   "source": [
    "Things to try: \n",
    "self-unknown?\n",
    "input cliques, instead of just pairs\n",
    "distances between voters?\n",
    "directed pairs of neighbors? e.g. celebrities\n",
    "different local allocation rules (as keywords in allocate function)\n",
    "different graphs, sparsities"
   ]
  },
  {
   "cell_type": "code",
   "execution_count": 2,
   "metadata": {},
   "outputs": [],
   "source": [
    "# each voter is an index in the array\n",
    "\n",
    "def construct_neighbors(truecompetencies, neighborpairs):\n",
    "    \"\"\"Returns direct neighbors of voters given pairs of neighbors (edges in graph)\n",
    "    ARGS:\n",
    "        truecompetencies: list of true competencies (between 0 and 1) for each voter\n",
    "        neighborpairs: list of unrepeated, undirected pairs of neighbors; not necessarily ordered\n",
    "    \n",
    "    OUTPUTS:\n",
    "        neighbors: list of direct neighbors for each voter\n",
    "    \"\"\"\n",
    "    n = len(truecompetencies)\n",
    "    \n",
    "    if np.sum(np.array(neighborpairs).flatten() > n - 1) != 0:\n",
    "        return(\"Error: Pair contains nonexistent voter.\")\n",
    "    \n",
    "    # initialize neighborlist\n",
    "    neighbors = [[] for i in range(n)]\n",
    "    \n",
    "    # add neighbors\n",
    "    for pair in neighborpairs:\n",
    "        (p1, p2) = pair\n",
    "        neighbors[p1].append(p2)\n",
    "        neighbors[p2].append(p1)\n",
    "\n",
    "    return neighbors"
   ]
  },
  {
   "cell_type": "code",
   "execution_count": 3,
   "metadata": {},
   "outputs": [],
   "source": [
    "# perceived competencies are just based on public voting record. extend to voting for representative?\n",
    "# unless we want to consider if stop watching -- if i vote right i don't look at others?\n",
    "def prior_competencies(competencies):\n",
    "    \"\"\"Initializes Beta(1,1) public competency distribution priors for everyone\n",
    "    ARGS:\n",
    "        competencies: list of true competencies (between 0 and 1) for each voter\n",
    "    OUTPUTS:\n",
    "        priors: list of Beta parameters for each individual\n",
    "    \"\"\"\n",
    "    n = len(competencies)\n",
    "    priors = [(1,1) for i in range(n)] # initialize everyone to Beta(1,1)=Unif(0,1) distributions\n",
    "    return priors"
   ]
  },
  {
   "cell_type": "code",
   "execution_count": 4,
   "metadata": {},
   "outputs": [],
   "source": [
    "def allocate(truecompetencies, pubcompetencies, neighbors, mechanism=\"standard\"):\n",
    "    \"\"\"Returns index of final voter whom each voter allocates their vote to\n",
    "    ARGS:\n",
    "        truecompetencies: list of true competencies (between 0 and 1) for each voter\n",
    "        pubcompetencies: list of public competency distributions for each voter, as paramters for Beta dist\n",
    "        neighbors: list of direct neighbors for each voter\n",
    "    Options:\n",
    "        mechanism: local delegation mechanism to use (see below)\n",
    "    Mechanisms:\n",
    "        \"standard\": each voter delegates to their neighbor with highest mean competency.\n",
    "                    in case of ties, voter delgates to the first in their list\n",
    "        \"truestandard\": each voter delegates to their neighbor with highest true competency.\n",
    "                    in case of ties, voter delgates to the first in their list\n",
    "                    \n",
    "        TODO: other (non-deterministic) mechanisms?\n",
    "    \n",
    "    OUTPUTS:\n",
    "        allocation: list of indices, where each value is the index of the sink\n",
    "                    voter whom that voter delegates to\n",
    "    \"\"\"\n",
    "    \n",
    "    allocation = [i for i in range(len(truecompetencies))] # initially each voter allocates vote to self\n",
    "    \n",
    "    meanpubcompetencies = [j[0]/(j[0]+j[1]) for j in pubcompetencies] # mean of each dist\n",
    "    \n",
    "    # for every voter, consider their neighbors\n",
    "    for i, ineighbors in enumerate(neighbors):\n",
    "        # i is index of voter being considered, ineighbors is list of indices of i's neighbors\n",
    "        \n",
    "        # if i has no neighbors\n",
    "        if len(ineighbors) == 0:\n",
    "            continue\n",
    "        \n",
    "        elif mechanism==\"standard\":\n",
    "            neighborcompetencies = [meanpubcompetencies[j] for j in ineighbors] \n",
    "            bestneighbor = ineighbors[np.argmax(neighborcompetencies)] # picks neighbor with highest competency; if ties, chooses first\n",
    "            \n",
    "            if truecompetencies[i] < meanpubcompetencies[bestneighbor]:\n",
    "                allocation[i] = bestneighbor\n",
    "                \n",
    "        elif mechanism==\"truestandard\":\n",
    "            neighborcompetencies = [truecompetencies[j] for j in ineighbors]\n",
    "            bestneighbor = ineighbors[np.argmax(neighborcompetencies)] # picks neighbor with highest competency; if ties, chooses first\n",
    "\n",
    "            if truecompetencies[i] < truecompetencies[bestneighbor]:\n",
    "                allocation[i] = bestneighbor\n",
    "        \n",
    "        # TODO: other mechanisms\n",
    "        \n",
    "            \n",
    "    # Here we allocate to the last sink in the chain\n",
    "    for node in range(len(allocation)): # check across all voters\n",
    "        path = [node] # create running cycle list \n",
    "        while allocation[path[-1]] != path[-1]: # if hasn't gotten to someone who keeps their vote\n",
    "            path.append(allocation[path[-1]]) # add them to the running list of voters in cycle\n",
    "            if path[-1] == path[0]: # if cycle completed (each voter in at most one cycle since outdeg=1)\n",
    "                # Not a DAG. Most of our allocations are not.\n",
    "                path[-1] = random.choice(path[:-1]) # pick a random voter in the cycle, and make all voters delegate to them\n",
    "                break\n",
    "        for point_to_sink in path: # make everyone delegate to same person, completing liquid flow\n",
    "            allocation[point_to_sink] = path[-1]\n",
    "                \n",
    "    return allocation"
   ]
  },
  {
   "cell_type": "code",
   "execution_count": 5,
   "metadata": {},
   "outputs": [
    {
     "name": "stdout",
     "output_type": "stream",
     "text": [
      "[0.8 0.6 0.6 0.6 0.6 0.6 0.6 0.6 0.6] [(1, 1), (1, 1), (1, 1), (1, 1), (1, 1), (1, 1), (1, 1), (1, 1), (1, 1)] [[0 1]\n",
      " [0 2]\n",
      " [0 3]\n",
      " [0 4]\n",
      " [0 5]\n",
      " [0 6]\n",
      " [0 7]\n",
      " [0 8]]\n"
     ]
    }
   ],
   "source": [
    "star_truecomps = np.array([.8]+[.6 for i in range(8)]) # true competencies\n",
    "star_pubcomps = prior_competencies(star_truecomps) # initialize parameters for priors\n",
    "star_nbpairs = np.array([(0, i) for i in range(1,9)]) # pairs of neighbors\n",
    "print(star_truecomps, star_pubcomps, star_nbpairs)"
   ]
  },
  {
   "cell_type": "code",
   "execution_count": 6,
   "metadata": {},
   "outputs": [
    {
     "name": "stdout",
     "output_type": "stream",
     "text": [
      "[0, 1, 2, 3, 4, 5, 6, 7, 8]\n",
      "[0, 0, 0, 0, 0, 0, 0, 0, 0]\n"
     ]
    }
   ],
   "source": [
    "# test once\n",
    "star_nbs = construct_neighbors(star_truecomps, star_nbpairs)\n",
    "print(allocate(star_truecomps, star_pubcomps, star_nbs, mechanism=\"standard\")) # allocate using mean perceived competency\n",
    "print(allocate(star_truecomps, star_pubcomps, star_nbs, mechanism=\"truestandard\")) # allocate using true competency"
   ]
  },
  {
   "cell_type": "code",
   "execution_count": 5,
   "metadata": {},
   "outputs": [],
   "source": [
    "def update_competencies(initialcompetencies, votes):\n",
    "    \"\"\"Returns updated competencies\n",
    "    ARGS:\n",
    "        initialcompetencies: list of initial public competency distributions for each voter, as parameters for Beta dist\n",
    "        votes: list of voting correctness for each voter\n",
    "        \n",
    "    OUTPUTS:\n",
    "        finalcompetencies: list of initial public competency distributions for each voter, as parameters for Beta dist\n",
    "    \"\"\"\n",
    "    finalcompetencies = initialcompetencies.copy()\n",
    "    for i in range(len(votes)):\n",
    "        finalcompetencies[i] = (initialcompetencies[i][0] + 1, initialcompetencies[i][1]) if votes[i]==1 else (initialcompetencies[i][0], initialcompetencies[i][1] + 1)\n",
    "    \n",
    "    return finalcompetencies"
   ]
  },
  {
   "cell_type": "code",
   "execution_count": 8,
   "metadata": {},
   "outputs": [
    {
     "data": {
      "text/plain": [
       "[(2, 1), (2, 1), (2, 1), (2, 1), (2, 1), (1, 2), (1, 2), (1, 2), (1, 2)]"
      ]
     },
     "execution_count": 8,
     "metadata": {},
     "output_type": "execute_result"
    }
   ],
   "source": [
    "star_pubcomps\n",
    "testvotes = [1 for i in range(5)] + [0 for i in range(4)]\n",
    "star_pubcomps2 = update_competencies(star_pubcomps, testvotes)\n",
    "star_pubcomps2"
   ]
  },
  {
   "cell_type": "code",
   "execution_count": 6,
   "metadata": {},
   "outputs": [],
   "source": [
    "def simulate_liquid(truecompetencies, neighborpairs, pubcompetencies=None, rounds=100, mechanism=\"standard\"):\n",
    "    \"\"\"Returns final public competencies, arrays of numbers = np.random.binomial(n, p, 1000)s = np.random.binomial(n, p, 1000) of voters who allocate, nubmer of voters who vote correctly\n",
    "    ARGS:\n",
    "        truecompetencies: list of true competencies (between 0 and 1) for each voter\n",
    "        neighborpairs: list of unrepeated, undirected pairs of neighbors; not necessarily ordered\n",
    "    Options:\n",
    "        pubcompetencies: list of public competency distributions for each voter, as parameters for Beta dist\n",
    "        rounds: # of iterative rounds to vote\n",
    "        mechanism: local delegation mechanism to use (see allocate function)\n",
    "        \n",
    "    OUTPUTS:\n",
    "        pubcompetencies: list of final public competency distributions for each voter, as parameters for Beta dist\n",
    "        numallocated: number of voters who allocate their votes in each round\n",
    "        numcorrect: number of voters who vote correctly in each round\n",
    "        numnoallocate: control test TODO: delete\n",
    "    \"\"\"\n",
    "    \n",
    "    n = len(truecompetencies)\n",
    "    neighbors = construct_neighbors(truecompetencies, neighborpairs)\n",
    "    \n",
    "    if pubcompetencies==None:\n",
    "        pubcompetencies = prior_competencies(truecompetencies) # initialize to Beta(1,1)\n",
    "    \n",
    "    numallocated = []\n",
    "    numcorrect = []\n",
    "    numnoallocate = [] # can ignore: testing, for comparison\n",
    "    for t in range(rounds):\n",
    "        # allocate\n",
    "        allocation = allocate(truecompetencies, pubcompetencies, neighbors, mechanism=\"standard\")\n",
    "        # vote\n",
    "        initialvotes = np.random.binomial(1, truecompetencies)\n",
    "        allocatedvotes = initialvotes[allocation]\n",
    "        \n",
    "        allocated = np.count_nonzero(np.array(allocation)-np.array([i for i in range(len(truecompetencies))])) # number of voters who allocated their vote to someone else\n",
    "        \n",
    "        numallocated.append(allocated) # add number of voters who give up their vote\n",
    "        numcorrect.append(np.sum(allocatedvotes)) # add number correct to correct\n",
    "        numnoallocate.append(np.sum(initialvotes)) # add initial number correct to noallocate\n",
    "\n",
    "        # update perceived competencies\n",
    "        pubcompetencies = update_competencies(pubcompetencies, initialvotes) # NOTE: judging everyone based on their broadcasted vote (possibly not counted)\n",
    "        # pubcompetencies = update_competencies(pubcompetencies, allocatedvotes) #NOTE: judging everyone by their final (possibly allocated) vote!!!!\n",
    "    \n",
    "    propcorrect = np.sum(numcorrect>np.ceil((n+1)/2.))/rounds # proportion over time of votes that are \"correct\" (>1/2 of voters vote correctly)\n",
    "    propnoallocate = np.sum(numnoallocate>np.ceil((n+1)/2.))/rounds\n",
    "    print(\"Proportion correct:\", propcorrect, \" Proportion noallocate right: \", propnoallocate)\n",
    "    return pubcompetencies, np.array(numallocated), np.array(numcorrect), np.array(numnoallocate)"
   ]
  },
  {
   "cell_type": "code",
   "execution_count": 10,
   "metadata": {},
   "outputs": [
    {
     "name": "stdout",
     "output_type": "stream",
     "text": [
      "Center competency: 0.0\n",
      "Proportion correct: 0.479  Proportion noallocate right:  0.297\n",
      "Center competency: 0.2\n",
      "Proportion correct: 0.496  Proportion noallocate right:  0.387\n",
      "Center competency: 0.4\n",
      "Proportion correct: 0.475  Proportion noallocate right:  0.407\n",
      "Center competency: 0.6\n",
      "Proportion correct: 0.494  Proportion noallocate right:  0.475\n",
      "Center competency: 0.7\n",
      "Proportion correct: 0.708  Proportion noallocate right:  0.512\n",
      "Center competency: 0.8\n",
      "Proportion correct: 0.779  Proportion noallocate right:  0.5\n",
      "Center competency: 0.9\n",
      "Proportion correct: 0.901  Proportion noallocate right:  0.598\n",
      "Center competency: 1.0\n",
      "Proportion correct: 0.999  Proportion noallocate right:  0.608\n"
     ]
    }
   ],
   "source": [
    "# Star structure 1\n",
    "for center_competency in [0.0, 0.2, 0.4, 0.6, 0.7, 0.8, 0.9, 1.0]:\n",
    "    star_truecomps = np.array([center_competency]+[.6 for i in range(8)]) # true competencies\n",
    "    star_nbpairs = np.array([(0, i) for i in range(1,9)]) # pairs of neighbors\n",
    "    print(\"Center competency:\", center_competency)\n",
    "    simulate_liquid(star_truecomps, star_nbpairs, rounds=1000, mechanism=\"standard\")\n",
    "    # simulate_liquid(star_truecomps, star_nbpairs, rounds=100, mechanism=\"truestandard\")"
   ]
  },
  {
   "cell_type": "code",
   "execution_count": 11,
   "metadata": {},
   "outputs": [
    {
     "name": "stdout",
     "output_type": "stream",
     "text": [
      "Center competency: 0.0\n",
      "Proportion correct: 0.483  Proportion noallocate right:  0.317\n",
      "Center competency: 0.2\n",
      "Proportion correct: 0.472  Proportion noallocate right:  0.363\n",
      "Center competency: 0.4\n",
      "Proportion correct: 0.473  Proportion noallocate right:  0.402\n",
      "Center competency: 0.6\n",
      "Proportion correct: 0.555  Proportion noallocate right:  0.502\n",
      "Center competency: 0.7\n",
      "Proportion correct: 0.707  Proportion noallocate right:  0.511\n",
      "Center competency: 0.8\n",
      "Proportion correct: 0.812  Proportion noallocate right:  0.564\n",
      "Center competency: 0.9\n",
      "Proportion correct: 0.885  Proportion noallocate right:  0.572\n",
      "Center competency: 1.0\n",
      "Proportion correct: 1.0  Proportion noallocate right:  0.596\n"
     ]
    }
   ],
   "source": [
    "# Star structure 2\n",
    "for center_competency in [0.0, 0.2, 0.4, 0.6, 0.7, 0.8, 0.9, 1.0]:\n",
    "    star_truecomps = np.array([center_competency]+[.6 for i in range(8)]) # true competencies\n",
    "    star_nbpairs = np.array([(0, i) for i in range(1,9)]) # pairs of neighbors\n",
    "    print(\"Center competency:\", center_competency)\n",
    "    simulate_liquid(star_truecomps, star_nbpairs, rounds=1000, mechanism=\"standard\")\n",
    "    # simulate_liquid(star_truecomps, star_nbpairs, rounds=100, mechanism=\"truestandard\")"
   ]
  },
  {
   "cell_type": "code",
   "execution_count": 7,
   "metadata": {
    "scrolled": true
   },
   "outputs": [],
   "source": [
    "# Generate popularities (not being used atm)\n",
    "\n",
    "def generate_popularities(n, alpha = 1, x_m = 1):\n",
    "    \"\"\"Returns voters' popularities\n",
    "    ARGS:\n",
    "        n: number of voters\n",
    "        \n",
    "    OUTPUTS:\n",
    "        popularities: list of popularity for each voter, drawn from a Pareto distribution\n",
    "    \"\"\"\n",
    "    \n",
    "    popularities = (np.random.pareto(alpha, n) + 1) * x_m # number of people each person knows\n",
    "    \n",
    "    for i in range(n):\n",
    "        popularities[i] = min(1, popularities[i] / n)\n",
    "\n",
    "    print(\"Popularities:\", popularities)\n",
    "    \n",
    "#     Plot PDF\n",
    "\n",
    "#     import matplotlib.pyplot as plt\n",
    "#     count, bins, _ = plt.hist(popularities, 100, density=True)\n",
    "#     fit = alpha*x_m**alpha / bins**(alpha+1)\n",
    "#     plt.plot(bins, max(count)*fit/max(fit), linewidth=2, color='r')\n",
    "#     plt.show()\n",
    "    "
   ]
  },
  {
   "cell_type": "code",
   "execution_count": 8,
   "metadata": {},
   "outputs": [],
   "source": [
    "# Construct neighborpairs for a random graph\n",
    "\n",
    "def construct_neighborpairs(n, p = 0.01):\n",
    "    \"\"\"Returns neighbor pairs\n",
    "    ARGS:\n",
    "        n: number of voters\n",
    "        p: probability that i and j are connected\n",
    "        \n",
    "    OUTPUTS:\n",
    "        neighborpairs: list of pairs of neighbors\n",
    "    \"\"\"\n",
    "    \n",
    "    neighborpairs = []\n",
    "    \n",
    "    for i in range(n):\n",
    "        for j in range(i+1, n):\n",
    "            connected = np.random.binomial(1, p)\n",
    "            if connected:\n",
    "                neighborpairs.append((i, j))\n",
    "    return neighborpairs"
   ]
  },
  {
   "cell_type": "code",
   "execution_count": 31,
   "metadata": {
    "scrolled": true
   },
   "outputs": [
    {
     "name": "stdout",
     "output_type": "stream",
     "text": [
      "Proportion correct: 0.96  Proportion noallocate right:  0.44\n"
     ]
    },
    {
     "data": {
      "text/plain": [
       "([(44, 8),\n",
       "  (11, 41),\n",
       "  (29, 23),\n",
       "  (45, 7),\n",
       "  (24, 28),\n",
       "  (40, 12),\n",
       "  (26, 26),\n",
       "  (37, 15),\n",
       "  (46, 6),\n",
       "  (13, 39),\n",
       "  (29, 23),\n",
       "  (31, 21),\n",
       "  (50, 2),\n",
       "  (18, 34),\n",
       "  (18, 34),\n",
       "  (4, 48),\n",
       "  (35, 17),\n",
       "  (14, 38),\n",
       "  (7, 45),\n",
       "  (43, 9),\n",
       "  (37, 15),\n",
       "  (16, 36),\n",
       "  (26, 26),\n",
       "  (2, 50),\n",
       "  (47, 5),\n",
       "  (10, 42),\n",
       "  (24, 28),\n",
       "  (48, 4),\n",
       "  (5, 47),\n",
       "  (29, 23),\n",
       "  (43, 9),\n",
       "  (45, 7),\n",
       "  (19, 33),\n",
       "  (1, 51),\n",
       "  (38, 14),\n",
       "  (31, 21),\n",
       "  (22, 30),\n",
       "  (31, 21),\n",
       "  (14, 38),\n",
       "  (50, 2),\n",
       "  (42, 10),\n",
       "  (30, 22),\n",
       "  (1, 51),\n",
       "  (12, 40),\n",
       "  (3, 49),\n",
       "  (16, 36),\n",
       "  (5, 47),\n",
       "  (51, 1),\n",
       "  (36, 16),\n",
       "  (13, 39),\n",
       "  (10, 42),\n",
       "  (44, 8),\n",
       "  (18, 34),\n",
       "  (5, 47),\n",
       "  (36, 16),\n",
       "  (41, 11),\n",
       "  (14, 38),\n",
       "  (23, 29),\n",
       "  (22, 30),\n",
       "  (13, 39),\n",
       "  (18, 34),\n",
       "  (15, 37),\n",
       "  (43, 9),\n",
       "  (46, 6),\n",
       "  (19, 33),\n",
       "  (17, 35),\n",
       "  (32, 20),\n",
       "  (44, 8),\n",
       "  (38, 14),\n",
       "  (34, 18),\n",
       "  (5, 47),\n",
       "  (36, 16),\n",
       "  (16, 36),\n",
       "  (22, 30),\n",
       "  (43, 9),\n",
       "  (17, 35),\n",
       "  (15, 37),\n",
       "  (37, 15),\n",
       "  (39, 13),\n",
       "  (3, 49),\n",
       "  (26, 26),\n",
       "  (47, 5),\n",
       "  (32, 20),\n",
       "  (50, 2),\n",
       "  (30, 22),\n",
       "  (36, 16),\n",
       "  (4, 48),\n",
       "  (1, 51),\n",
       "  (43, 9),\n",
       "  (46, 6),\n",
       "  (22, 30),\n",
       "  (48, 4),\n",
       "  (24, 28),\n",
       "  (39, 13),\n",
       "  (50, 2),\n",
       "  (46, 6),\n",
       "  (22, 30),\n",
       "  (7, 45),\n",
       "  (20, 32),\n",
       "  (27, 25)],\n",
       " array([22, 27, 29, 29, 30, 30, 29, 28, 29, 29, 29, 29, 30, 30, 30, 29, 29,\n",
       "        30, 30, 29, 29, 29, 30, 30, 30, 30, 30, 30, 30, 30, 30, 30, 30, 30,\n",
       "        30, 30, 30, 30, 30, 30, 30, 30, 30, 30, 30, 30, 30, 30, 30, 30]),\n",
       " array([60, 51, 67, 64, 57, 65, 59, 65, 50, 63, 65, 65, 55, 64, 58, 60, 62,\n",
       "        62, 59, 64, 63, 60, 59, 60, 67, 75, 63, 64, 72, 66, 53, 61, 65, 68,\n",
       "        63, 61, 59, 68, 74, 64, 68, 70, 58, 66, 61, 63, 60, 72, 55, 60]),\n",
       " array([53, 46, 53, 48, 48, 55, 53, 48, 47, 51, 53, 55, 49, 53, 51, 47, 50,\n",
       "        50, 55, 54, 53, 51, 50, 50, 54, 61, 49, 56, 58, 50, 46, 48, 57, 57,\n",
       "        51, 50, 50, 58, 58, 47, 56, 57, 49, 50, 48, 52, 51, 58, 51, 51]))"
      ]
     },
     "execution_count": 31,
     "metadata": {},
     "output_type": "execute_result"
    }
   ],
   "source": [
    "# Random graph simulation\n",
    "\n",
    "n = 100 # number of people\n",
    "rand_truecomps = np.random.random_sample(size = n)\n",
    "rand_nbpairs = construct_neighborpairs(n)\n",
    "simulate_liquid(rand_truecomps, rand_nbpairs, rounds=50, mechanism=\"standard\")\n"
   ]
  },
  {
   "cell_type": "code",
   "execution_count": 9,
   "metadata": {},
   "outputs": [
    {
     "ename": "MemoryError",
     "evalue": "",
     "output_type": "error",
     "traceback": [
      "\u001b[1;31m---------------------------------------------------------------------------\u001b[0m",
      "\u001b[1;31mMemoryError\u001b[0m                               Traceback (most recent call last)",
      "\u001b[1;32m<ipython-input-9-afdb9b5a59dc>\u001b[0m in \u001b[0;36m<module>\u001b[1;34m\u001b[0m\n\u001b[0;32m      5\u001b[0m     \u001b[0mrand_truecomps\u001b[0m \u001b[1;33m=\u001b[0m \u001b[0mnp\u001b[0m\u001b[1;33m.\u001b[0m\u001b[0mrandom\u001b[0m\u001b[1;33m.\u001b[0m\u001b[0mrandom_sample\u001b[0m\u001b[1;33m(\u001b[0m\u001b[0msize\u001b[0m \u001b[1;33m=\u001b[0m \u001b[0mn\u001b[0m\u001b[1;33m)\u001b[0m\u001b[1;33m\u001b[0m\u001b[1;33m\u001b[0m\u001b[0m\n\u001b[0;32m      6\u001b[0m     \u001b[0mrand_nbpairs\u001b[0m \u001b[1;33m=\u001b[0m \u001b[0mconstruct_neighborpairs\u001b[0m\u001b[1;33m(\u001b[0m\u001b[0mn\u001b[0m\u001b[1;33m)\u001b[0m\u001b[1;33m\u001b[0m\u001b[1;33m\u001b[0m\u001b[0m\n\u001b[1;32m----> 7\u001b[1;33m     \u001b[0msimulate_liquid\u001b[0m\u001b[1;33m(\u001b[0m\u001b[0mrand_truecomps\u001b[0m\u001b[1;33m,\u001b[0m \u001b[0mrand_nbpairs\u001b[0m\u001b[1;33m,\u001b[0m \u001b[0mrounds\u001b[0m\u001b[1;33m=\u001b[0m\u001b[1;36m50\u001b[0m\u001b[1;33m,\u001b[0m \u001b[0mmechanism\u001b[0m\u001b[1;33m=\u001b[0m\u001b[1;34m\"standard\"\u001b[0m\u001b[1;33m)\u001b[0m\u001b[1;33m\u001b[0m\u001b[1;33m\u001b[0m\u001b[0m\n\u001b[0m\u001b[0;32m      8\u001b[0m \u001b[1;33m\u001b[0m\u001b[0m\n\u001b[0;32m      9\u001b[0m     \u001b[0mprint\u001b[0m\u001b[1;33m(\u001b[0m\u001b[0mi\u001b[0m \u001b[1;33m+\u001b[0m \u001b[1;34m\"th iteration complete!!-------------------------------------------------------\"\u001b[0m\u001b[1;33m)\u001b[0m\u001b[1;33m\u001b[0m\u001b[1;33m\u001b[0m\u001b[0m\n",
      "\u001b[1;32m<ipython-input-6-cfa18fd71833>\u001b[0m in \u001b[0;36msimulate_liquid\u001b[1;34m(truecompetencies, neighborpairs, pubcompetencies, rounds, mechanism)\u001b[0m\n\u001b[0;32m     27\u001b[0m     \u001b[1;32mfor\u001b[0m \u001b[0mt\u001b[0m \u001b[1;32min\u001b[0m \u001b[0mrange\u001b[0m\u001b[1;33m(\u001b[0m\u001b[0mrounds\u001b[0m\u001b[1;33m)\u001b[0m\u001b[1;33m:\u001b[0m\u001b[1;33m\u001b[0m\u001b[1;33m\u001b[0m\u001b[0m\n\u001b[0;32m     28\u001b[0m         \u001b[1;31m# allocate\u001b[0m\u001b[1;33m\u001b[0m\u001b[1;33m\u001b[0m\u001b[1;33m\u001b[0m\u001b[0m\n\u001b[1;32m---> 29\u001b[1;33m         \u001b[0mallocation\u001b[0m \u001b[1;33m=\u001b[0m \u001b[0mallocate\u001b[0m\u001b[1;33m(\u001b[0m\u001b[0mtruecompetencies\u001b[0m\u001b[1;33m,\u001b[0m \u001b[0mpubcompetencies\u001b[0m\u001b[1;33m,\u001b[0m \u001b[0mneighbors\u001b[0m\u001b[1;33m,\u001b[0m \u001b[0mmechanism\u001b[0m\u001b[1;33m=\u001b[0m\u001b[1;34m\"standard\"\u001b[0m\u001b[1;33m)\u001b[0m\u001b[1;33m\u001b[0m\u001b[1;33m\u001b[0m\u001b[0m\n\u001b[0m\u001b[0;32m     30\u001b[0m         \u001b[1;31m# vote\u001b[0m\u001b[1;33m\u001b[0m\u001b[1;33m\u001b[0m\u001b[1;33m\u001b[0m\u001b[0m\n\u001b[0;32m     31\u001b[0m         \u001b[0minitialvotes\u001b[0m \u001b[1;33m=\u001b[0m \u001b[0mnp\u001b[0m\u001b[1;33m.\u001b[0m\u001b[0mrandom\u001b[0m\u001b[1;33m.\u001b[0m\u001b[0mbinomial\u001b[0m\u001b[1;33m(\u001b[0m\u001b[1;36m1\u001b[0m\u001b[1;33m,\u001b[0m \u001b[0mtruecompetencies\u001b[0m\u001b[1;33m)\u001b[0m\u001b[1;33m\u001b[0m\u001b[1;33m\u001b[0m\u001b[0m\n",
      "\u001b[1;32m<ipython-input-4-c13dd24b9355>\u001b[0m in \u001b[0;36mallocate\u001b[1;34m(truecompetencies, pubcompetencies, neighbors, mechanism)\u001b[0m\n\u001b[0;32m     53\u001b[0m         \u001b[0mpath\u001b[0m \u001b[1;33m=\u001b[0m \u001b[1;33m[\u001b[0m\u001b[0mnode\u001b[0m\u001b[1;33m]\u001b[0m \u001b[1;31m# create running cycle list\u001b[0m\u001b[1;33m\u001b[0m\u001b[1;33m\u001b[0m\u001b[0m\n\u001b[0;32m     54\u001b[0m         \u001b[1;32mwhile\u001b[0m \u001b[0mallocation\u001b[0m\u001b[1;33m[\u001b[0m\u001b[0mpath\u001b[0m\u001b[1;33m[\u001b[0m\u001b[1;33m-\u001b[0m\u001b[1;36m1\u001b[0m\u001b[1;33m]\u001b[0m\u001b[1;33m]\u001b[0m \u001b[1;33m!=\u001b[0m \u001b[0mpath\u001b[0m\u001b[1;33m[\u001b[0m\u001b[1;33m-\u001b[0m\u001b[1;36m1\u001b[0m\u001b[1;33m]\u001b[0m\u001b[1;33m:\u001b[0m \u001b[1;31m# if hasn't gotten to someone who keeps their vote\u001b[0m\u001b[1;33m\u001b[0m\u001b[1;33m\u001b[0m\u001b[0m\n\u001b[1;32m---> 55\u001b[1;33m             \u001b[0mpath\u001b[0m\u001b[1;33m.\u001b[0m\u001b[0mappend\u001b[0m\u001b[1;33m(\u001b[0m\u001b[0mallocation\u001b[0m\u001b[1;33m[\u001b[0m\u001b[0mpath\u001b[0m\u001b[1;33m[\u001b[0m\u001b[1;33m-\u001b[0m\u001b[1;36m1\u001b[0m\u001b[1;33m]\u001b[0m\u001b[1;33m]\u001b[0m\u001b[1;33m)\u001b[0m \u001b[1;31m# add them to the running list of voters in cycle\u001b[0m\u001b[1;33m\u001b[0m\u001b[1;33m\u001b[0m\u001b[0m\n\u001b[0m\u001b[0;32m     56\u001b[0m             \u001b[1;32mif\u001b[0m \u001b[0mpath\u001b[0m\u001b[1;33m[\u001b[0m\u001b[1;33m-\u001b[0m\u001b[1;36m1\u001b[0m\u001b[1;33m]\u001b[0m \u001b[1;33m==\u001b[0m \u001b[0mpath\u001b[0m\u001b[1;33m[\u001b[0m\u001b[1;36m0\u001b[0m\u001b[1;33m]\u001b[0m\u001b[1;33m:\u001b[0m \u001b[1;31m# if cycle completed (each voter in at most one cycle since outdeg=1)\u001b[0m\u001b[1;33m\u001b[0m\u001b[1;33m\u001b[0m\u001b[0m\n\u001b[0;32m     57\u001b[0m                 \u001b[1;31m# Not a DAG. Most of our allocations are not.\u001b[0m\u001b[1;33m\u001b[0m\u001b[1;33m\u001b[0m\u001b[1;33m\u001b[0m\u001b[0m\n",
      "\u001b[1;31mMemoryError\u001b[0m: "
     ]
    }
   ],
   "source": [
    "# Simulate a bunch\n",
    "\n",
    "for i in range(10):\n",
    "    n = 100 # number of people\n",
    "    rand_truecomps = np.random.random_sample(size = n)\n",
    "    rand_nbpairs = construct_neighborpairs(n)\n",
    "    simulate_liquid(rand_truecomps, rand_nbpairs, rounds=50, mechanism=\"standard\")\n",
    "    \n",
    "    print(i + \"th iteration complete!!-------------------------------------------------------\")"
   ]
  },
  {
   "cell_type": "code",
   "execution_count": null,
   "metadata": {},
   "outputs": [],
   "source": [
    "# TODO: grid structure"
   ]
  },
  {
   "cell_type": "code",
   "execution_count": null,
   "metadata": {},
   "outputs": [],
   "source": []
  }
 ],
 "metadata": {
  "kernelspec": {
   "display_name": "Python 3",
   "language": "python",
   "name": "python3"
  },
  "language_info": {
   "codemirror_mode": {
    "name": "ipython",
    "version": 3
   },
   "file_extension": ".py",
   "mimetype": "text/x-python",
   "name": "python",
   "nbconvert_exporter": "python",
   "pygments_lexer": "ipython3",
   "version": "3.7.4"
  }
 },
 "nbformat": 4,
 "nbformat_minor": 4
}
