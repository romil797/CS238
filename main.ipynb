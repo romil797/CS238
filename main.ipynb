{
 "cells": [
  {
   "cell_type": "code",
   "execution_count": 3,
   "metadata": {},
   "outputs": [],
   "source": [
    "import numpy as np\n",
    "import random\n",
    "\n",
    "# we have a graph dict\n",
    "# and a priors dict\n",
    "def generate_star(n=8):\n",
    "    # generates an n+1 vertex star --\n",
    "    # one vertex is the center\n",
    "    graph = { i : [1] for i in range(2, 2+n)}\n",
    "    priors = {i : (2, 3) for i in range(2, 2+n)}\n",
    "    priors[1] = (4,1)\n",
    "    return graph, priors\n",
    "graph, priors = generate_star(n=8)\n",
    "\n",
    "real_ps = {}\n",
    "for i in priors:\n",
    "    real_ps[i] = np.random.beta(priors[i][0], priors[i][1])\n",
    "# Now, our model has a graph model, stores its priors\n",
    "# and stores the real probability of correctness"
   ]
  },
  {
   "cell_type": "code",
   "execution_count": 11,
   "metadata": {},
   "outputs": [],
   "source": [
    "results = []\n",
    "for seed in range(20):\n",
    "    current_seed = []\n",
    "    def random_allocation(graph):\n",
    "        # TODO : allow for chains of allocations\n",
    "        allocation = { i : random.choice(graph[i]) for i in graph }\n",
    "        return allocation\n",
    "\n",
    "    allocation = random_allocation(graph)\n",
    "\n",
    "    updated = set([])\n",
    "    for sim in range(40):\n",
    "        # Run simulation\n",
    "        votes = 0\n",
    "        how_voted = {}\n",
    "        for i in priors:\n",
    "            how_voted[i] = np.random.binomial(1, real_ps[i])\n",
    "        # Eveyone votes, then votes are tallied per the liquid democracy\n",
    "        # allocation.\n",
    "        for i in priors:\n",
    "            if i in allocation:\n",
    "                vote_like = allocation[i]\n",
    "            else:\n",
    "                vote_like = i\n",
    "            if vote_like not in how_voted:\n",
    "                priors[vote_like] = (priors[vote_like][0] + how_voted[vote_like], priors[vote_like][1])\n",
    "                how_voted.add(vote_like)\n",
    "            votes += how_voted[vote_like]\n",
    "\n",
    "        # Here is where we'd re-allocate\n",
    "        # Re-allocate code TODO\n",
    "\n",
    "        current_seed.append(votes/len(priors) > 0.5)\n",
    "    results.append(current_seed)"
   ]
  },
  {
   "cell_type": "code",
   "execution_count": 12,
   "metadata": {},
   "outputs": [
    {
     "name": "stdout",
     "output_type": "stream",
     "text": [
      "[16 19 16 15 17 18 17 17 18 14 17 14 17 13 17 19 16 18 16 16 16 14 17 18\n",
      " 18 15 13 15 16 19 18 16 14 17 16 19 17 17 13 16]\n"
     ]
    }
   ],
   "source": [
    "results_sum = np.sum(np.transpose(np.array(results)), axis=1)\n",
    "print(results_sum)"
   ]
  },
  {
   "cell_type": "code",
   "execution_count": null,
   "metadata": {},
   "outputs": [],
   "source": []
  }
 ],
 "metadata": {
  "kernelspec": {
   "display_name": "Python 3",
   "language": "python",
   "name": "python3"
  },
  "language_info": {
   "codemirror_mode": {
    "name": "ipython",
    "version": 3
   },
   "file_extension": ".py",
   "mimetype": "text/x-python",
   "name": "python",
   "nbconvert_exporter": "python",
   "pygments_lexer": "ipython3",
   "version": "3.6.9"
  }
 },
 "nbformat": 4,
 "nbformat_minor": 2
}
